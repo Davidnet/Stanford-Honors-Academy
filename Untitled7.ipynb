{
 "cells": [
  {
   "cell_type": "code",
   "execution_count": 5,
   "metadata": {
    "collapsed": false
   },
   "outputs": [
    {
     "data": {
      "text/plain": [
       "φ = 1.6180339887498..."
      ]
     },
     "execution_count": 5,
     "metadata": {},
     "output_type": "execute_result"
    }
   ],
   "source": [
    "φ"
   ]
  },
  {
   "cell_type": "code",
   "execution_count": 7,
   "metadata": {
    "collapsed": false
   },
   "outputs": [
    {
     "data": {
      "text/plain": [
       "evenSum (generic function with 2 methods)"
      ]
     },
     "execution_count": 7,
     "metadata": {},
     "output_type": "execute_result"
    }
   ],
   "source": [
    "function evenSum(k::UInt64)\n",
    "    (1/√5)*(φ^3*((1-(φ^3)^k)/(1-φ^3)) + φ^(-3)*((1-(-φ^(-3))^k)/(1 + φ^(-3))))\n",
    "end"
   ]
  },
  {
   "cell_type": "code",
   "execution_count": 8,
   "metadata": {
    "collapsed": false
   },
   "outputs": [
    {
     "ename": "LoadError",
     "evalue": "LoadError: DomainError:\nCannot raise an integer x to a negative power -n. \nMake x a float by adding a zero decimal (e.g. 2.0^-n instead of 2^-n), or write 1/x^n, float(x)^-n, or (x//1)^-n.\nwhile loading In[8], in expression starting on line 1",
     "output_type": "error",
     "traceback": [
      "LoadError: DomainError:\nCannot raise an integer x to a negative power -n. \nMake x a float by adding a zero decimal (e.g. 2.0^-n instead of 2^-n), or write 1/x^n, float(x)^-n, or (x//1)^-n.\nwhile loading In[8], in expression starting on line 1",
      "",
      " in power_by_squaring(::Irrational{:φ}, ::Int64) at ./intfuncs.jl:118",
      " in evenSum(::Int64) at ./In[6]:2"
     ]
    }
   ],
   "source": [
    "evenSum(11)"
   ]
  },
  {
   "cell_type": "code",
   "execution_count": 10,
   "metadata": {
    "collapsed": false
   },
   "outputs": [
    {
     "ename": "LoadError",
     "evalue": "LoadError: DomainError:\nCannot raise an integer x to a negative power -n. \nMake x a float by adding a zero decimal (e.g. 2.0^-n instead of 2^-n), or write 1/x^n, float(x)^-n, or (x//1)^-n.\nwhile loading In[10], in expression starting on line 1",
     "output_type": "error",
     "traceback": [
      "LoadError: DomainError:\nCannot raise an integer x to a negative power -n. \nMake x a float by adding a zero decimal (e.g. 2.0^-n instead of 2^-n), or write 1/x^n, float(x)^-n, or (x//1)^-n.\nwhile loading In[10], in expression starting on line 1",
      "",
      " in power_by_squaring(::Irrational{:φ}, ::Int64) at ./intfuncs.jl:118",
      " in ^(::Irrational{:φ}, ::Int64) at ./intfuncs.jl:143"
     ]
    }
   ],
   "source": [
    "φ^(-3)"
   ]
  },
  {
   "cell_type": "code",
   "execution_count": null,
   "metadata": {
    "collapsed": true
   },
   "outputs": [],
   "source": []
  }
 ],
 "metadata": {
  "anaconda-cloud": {},
  "kernelspec": {
   "display_name": "Julia 0.5.0",
   "language": "julia",
   "name": "julia-0.5"
  },
  "language_info": {
   "file_extension": ".jl",
   "mimetype": "application/julia",
   "name": "julia",
   "version": "0.5.0"
  }
 },
 "nbformat": 4,
 "nbformat_minor": 1
}
