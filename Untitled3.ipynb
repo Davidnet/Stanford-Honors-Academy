{
 "cells": [
  {
   "cell_type": "markdown",
   "metadata": {
    "nbpresent": {
     "id": "dc0cccc2-fe79-4fe9-a602-340a50756eba"
    }
   },
   "source": [
    "# Programa General\n",
    "\n",
    "* ¿Que es Julia?\n",
    "* ¿Por qué Julia?\n",
    "* ¿Cual es el estado de Julia para estadística/Ciencias de Datos?\n",
    "* Como puedo usar Juliar junto con Python\n",
    "* ¿Cuales paquetes de Julia me dan caractersiticas únicas?"
   ]
  },
  {
   "cell_type": "markdown",
   "metadata": {
    "nbpresent": {
     "id": "74acb54f-f902-4dfe-a8a6-974804221216"
    }
   },
   "source": [
    "## ¿Que es Julia?\n",
    "> Julia es un lenguaje dinámico de alto nivel y de alto rendimiento para computación científica, con una sintaxis que es familiar para usuarios de otros ambientes computacionales.\n",
    "\n",
    "* JIT (Just in time)\n",
    "* Inferencia de tipos\n",
    "* multiple dispatch\n",
    "* Pass by Reference"
   ]
  },
  {
   "cell_type": "markdown",
   "metadata": {},
   "source": [
    "## JIT"
   ]
  },
  {
   "cell_type": "code",
   "execution_count": 1,
   "metadata": {
    "collapsed": false,
    "nbpresent": {
     "id": "04e3d0d0-dae4-4c67-8f34-c110c29b0bcf"
    }
   },
   "outputs": [
    {
     "name": "stdout",
     "output_type": "stream",
     "text": [
      "  0.028453 seconds (15.77 k allocations: 742.644 KB)\n"
     ]
    },
    {
     "data": {
      "text/plain": [
       "0.034199408609757474"
      ]
     },
     "execution_count": 1,
     "metadata": {},
     "output_type": "execute_result"
    }
   ],
   "source": [
    "y = randn(10_000)\n",
    "\n",
    "@time mean(y)"
   ]
  },
  {
   "cell_type": "code",
   "execution_count": 2,
   "metadata": {
    "collapsed": false
   },
   "outputs": [
    {
     "name": "stdout",
     "output_type": "stream",
     "text": [
      "  0.000009 seconds (5 allocations: 176 bytes)\n"
     ]
    },
    {
     "data": {
      "text/plain": [
       "0.034199408609757474"
      ]
     },
     "execution_count": 2,
     "metadata": {},
     "output_type": "execute_result"
    }
   ],
   "source": [
    "@time mean(y)"
   ]
  },
  {
   "cell_type": "markdown",
   "metadata": {},
   "source": [
    "## Dínamico y Compilado"
   ]
  },
  {
   "cell_type": "code",
   "execution_count": 3,
   "metadata": {
    "collapsed": false
   },
   "outputs": [
    {
     "data": {
      "text/plain": [
       "f (generic function with 1 method)"
      ]
     },
     "execution_count": 3,
     "metadata": {},
     "output_type": "execute_result"
    }
   ],
   "source": [
    "f(x) = x^2"
   ]
  },
  {
   "cell_type": "code",
   "execution_count": 4,
   "metadata": {
    "collapsed": false
   },
   "outputs": [
    {
     "name": "stdout",
     "output_type": "stream",
     "text": [
      "\n",
      "define i64 @julia_f_71178(i64) #0 {\n",
      "top:\n",
      "  %1 = mul i64 %0, %0\n",
      "  ret i64 %1\n",
      "}\n"
     ]
    }
   ],
   "source": [
    "# método especifico para int64\n",
    "@code_llvm f(1)"
   ]
  },
  {
   "cell_type": "code",
   "execution_count": 5,
   "metadata": {
    "collapsed": false
   },
   "outputs": [
    {
     "name": "stdout",
     "output_type": "stream",
     "text": [
      "\n",
      "define double @julia_f_71186(double) #0 {\n",
      "top:\n",
      "  %1 = fmul double %0, %0\n",
      "  ret double %1\n",
      "}\n"
     ]
    }
   ],
   "source": [
    "# método especifico para Float64\n",
    "@code_llvm f(1.0)"
   ]
  },
  {
   "cell_type": "markdown",
   "metadata": {},
   "source": [
    "## Julionista"
   ]
  },
  {
   "cell_type": "markdown",
   "metadata": {},
   "source": [
    "* Programas están organizados sobre multiple dispatch\n",
    "    - funciones llaman diferente código dependiendo de los tipos de sus argumentos"
   ]
  },
  {
   "cell_type": "code",
   "execution_count": 6,
   "metadata": {
    "collapsed": false
   },
   "outputs": [
    {
     "name": "stdout",
     "output_type": "stream",
     "text": [
      "cdf(dist,0.5) = 0.0001721156299558404\n",
      "cdf(dist,0.5) = 0.6914624612740131\n",
      "cdf(dist,0.5) = 0.8125\n"
     ]
    }
   ],
   "source": [
    "using Distributions\n",
    "\n",
    "for dist in (Gamma(5,1), Normal(0,1), Beta(2,4))\n",
    "    @show cdf(dist, .5)\n",
    "end"
   ]
  },
  {
   "cell_type": "markdown",
   "metadata": {},
   "source": [
    "## El poder de la abstración"
   ]
  },
  {
   "cell_type": "code",
   "execution_count": 7,
   "metadata": {
    "collapsed": false
   },
   "outputs": [
    {
     "name": "stdout",
     "output_type": "stream",
     "text": [
      "myquantil(dist,0.75) = Inf\n",
      "quantile(dist,0.75) = 6.2744306984446885\n",
      "\n",
      "myquantil(dist,0.75) = 0.6266570686577501\n",
      "quantile(dist,0.75) = 0.6744897501960818\n",
      "\n",
      "myquantil(dist,0.75) = Inf\n",
      "quantile(dist,0.75) = 0.4541805647736157\n",
      "\n"
     ]
    }
   ],
   "source": [
    "function myquantil(d::UnivariateDistribution, q::Number)\n",
    "    θ = mean(d)\n",
    "    tol = Inf\n",
    "    while tol > 1\n",
    "        θold = θ\n",
    "        θ = θ - (cdf(d, 0) - q)/ pdf(d,0)\n",
    "        tol = abs(θold - θ)\n",
    "    end\n",
    "    θ\n",
    "end\n",
    "\n",
    "for dist in (Gamma(5,1), Normal(0,1), Beta(2,4))\n",
    "    @show myquantil(dist, .75)\n",
    "    @show quantile(dist, .75)\n",
    "    println()\n",
    "end"
   ]
  },
  {
   "cell_type": "markdown",
   "metadata": {
    "collapsed": true
   },
   "source": [
    "## Importando un paquete"
   ]
  },
  {
   "cell_type": "markdown",
   "metadata": {},
   "source": [
    "Para usar un paquete, se necesita importar el paquete. `import` importa el paquete sin exportar las funciones al namespace (Notar que el paquete se corra por primera vez, va a hacer una precompilación y va tomar un poco de tiempo)"
   ]
  },
  {
   "cell_type": "code",
   "execution_count": 3,
   "metadata": {
    "collapsed": false
   },
   "outputs": [],
   "source": [
    "import Plots"
   ]
  },
  {
   "cell_type": "code",
   "execution_count": 6,
   "metadata": {
    "collapsed": false
   },
   "outputs": [
    {
     "data": {
      "text/html": [
       "<?xml version=\"1.0\" encoding=\"utf-8\"?>\n",
       "<svg xmlns=\"http://www.w3.org/2000/svg\" xmlns:xlink=\"http://www.w3.org/1999/xlink\" width=\"600\" height=\"400\" viewBox=\"0 0 600 400\">\n",
       "<defs>\n",
       "  <clipPath id=\"clip00\">\n",
       "    <rect x=\"0\" y=\"0\" width=\"600\" height=\"400\"/>\n",
       "  </clipPath>\n",
       "</defs>\n",
       "<polygon clip-path=\"url(#clip00)\" points=\"\n",
       "0,400 600,400 600,0 0,0 \n",
       "  \" fill=\"#ffffff\" fill-opacity=\"1\"/>\n",
       "<defs>\n",
       "  <clipPath id=\"clip01\">\n",
       "    <rect x=\"120\" y=\"0\" width=\"421\" height=\"400\"/>\n",
       "  </clipPath>\n",
       "</defs>\n",
       "<polygon clip-path=\"url(#clip00)\" points=\"\n",
       "39.4926,384.952 596.063,384.952 596.063,3.93701 39.4926,3.93701 \n",
       "  \" fill=\"#ffffff\" fill-opacity=\"1\"/>\n",
       "<defs>\n",
       "  <clipPath id=\"clip02\">\n",
       "    <rect x=\"39\" y=\"3\" width=\"557\" height=\"382\"/>\n",
       "  </clipPath>\n",
       "</defs>\n",
       "<polyline clip-path=\"url(#clip02)\" style=\"stroke:#00002d; stroke-width:0.8; stroke-opacity:0.5; fill:none\" stroke-dasharray=\"1, 2\" points=\"\n",
       "  39.4926,379.237 39.4926,9.65223 \n",
       "  \"/>\n",
       "<polyline clip-path=\"url(#clip02)\" style=\"stroke:#00002d; stroke-width:0.8; stroke-opacity:0.5; fill:none\" stroke-dasharray=\"1, 2\" points=\"\n",
       "  132.254,379.237 132.254,9.65223 \n",
       "  \"/>\n",
       "<polyline clip-path=\"url(#clip02)\" style=\"stroke:#00002d; stroke-width:0.8; stroke-opacity:0.5; fill:none\" stroke-dasharray=\"1, 2\" points=\"\n",
       "  225.016,379.237 225.016,9.65223 \n",
       "  \"/>\n",
       "<polyline clip-path=\"url(#clip02)\" style=\"stroke:#00002d; stroke-width:0.8; stroke-opacity:0.5; fill:none\" stroke-dasharray=\"1, 2\" points=\"\n",
       "  317.778,379.237 317.778,9.65223 \n",
       "  \"/>\n",
       "<polyline clip-path=\"url(#clip02)\" style=\"stroke:#00002d; stroke-width:0.8; stroke-opacity:0.5; fill:none\" stroke-dasharray=\"1, 2\" points=\"\n",
       "  410.54,379.237 410.54,9.65223 \n",
       "  \"/>\n",
       "<polyline clip-path=\"url(#clip02)\" style=\"stroke:#00002d; stroke-width:0.8; stroke-opacity:0.5; fill:none\" stroke-dasharray=\"1, 2\" points=\"\n",
       "  503.301,379.237 503.301,9.65223 \n",
       "  \"/>\n",
       "<polyline clip-path=\"url(#clip02)\" style=\"stroke:#00002d; stroke-width:0.8; stroke-opacity:0.5; fill:none\" stroke-dasharray=\"1, 2\" points=\"\n",
       "  596.063,379.237 596.063,9.65223 \n",
       "  \"/>\n",
       "<polyline clip-path=\"url(#clip02)\" style=\"stroke:#00002d; stroke-width:0.8; stroke-opacity:0.5; fill:none\" stroke-dasharray=\"1, 2\" points=\"\n",
       "  47.8411,292.604 587.714,292.604 \n",
       "  \"/>\n",
       "<polyline clip-path=\"url(#clip02)\" style=\"stroke:#00002d; stroke-width:0.8; stroke-opacity:0.5; fill:none\" stroke-dasharray=\"1, 2\" points=\"\n",
       "  47.8411,194.045 587.714,194.045 \n",
       "  \"/>\n",
       "<polyline clip-path=\"url(#clip02)\" style=\"stroke:#00002d; stroke-width:0.8; stroke-opacity:0.5; fill:none\" stroke-dasharray=\"1, 2\" points=\"\n",
       "  47.8411,95.485 587.714,95.485 \n",
       "  \"/>\n",
       "<polyline clip-path=\"url(#clip02)\" style=\"stroke:#00002d; stroke-width:0.8; stroke-opacity:1; fill:none\" points=\"\n",
       "  39.4926,384.952 596.063,384.952 \n",
       "  \"/>\n",
       "<polyline clip-path=\"url(#clip02)\" style=\"stroke:#00002d; stroke-width:0.8; stroke-opacity:1; fill:none\" points=\"\n",
       "  39.4926,384.952 39.4926,379.237 \n",
       "  \"/>\n",
       "<polyline clip-path=\"url(#clip02)\" style=\"stroke:#00002d; stroke-width:0.8; stroke-opacity:1; fill:none\" points=\"\n",
       "  132.254,384.952 132.254,379.237 \n",
       "  \"/>\n",
       "<polyline clip-path=\"url(#clip02)\" style=\"stroke:#00002d; stroke-width:0.8; stroke-opacity:1; fill:none\" points=\"\n",
       "  225.016,384.952 225.016,379.237 \n",
       "  \"/>\n",
       "<polyline clip-path=\"url(#clip02)\" style=\"stroke:#00002d; stroke-width:0.8; stroke-opacity:1; fill:none\" points=\"\n",
       "  317.778,384.952 317.778,379.237 \n",
       "  \"/>\n",
       "<polyline clip-path=\"url(#clip02)\" style=\"stroke:#00002d; stroke-width:0.8; stroke-opacity:1; fill:none\" points=\"\n",
       "  410.54,384.952 410.54,379.237 \n",
       "  \"/>\n",
       "<polyline clip-path=\"url(#clip02)\" style=\"stroke:#00002d; stroke-width:0.8; stroke-opacity:1; fill:none\" points=\"\n",
       "  503.301,384.952 503.301,379.237 \n",
       "  \"/>\n",
       "<polyline clip-path=\"url(#clip02)\" style=\"stroke:#00002d; stroke-width:0.8; stroke-opacity:1; fill:none\" points=\"\n",
       "  596.063,384.952 596.063,379.237 \n",
       "  \"/>\n",
       "<polyline clip-path=\"url(#clip02)\" style=\"stroke:#00002d; stroke-width:0.8; stroke-opacity:1; fill:none\" points=\"\n",
       "  39.4926,384.952 39.4926,3.93701 \n",
       "  \"/>\n",
       "<polyline clip-path=\"url(#clip02)\" style=\"stroke:#00002d; stroke-width:0.8; stroke-opacity:1; fill:none\" points=\"\n",
       "  39.4926,292.604 47.8411,292.604 \n",
       "  \"/>\n",
       "<polyline clip-path=\"url(#clip02)\" style=\"stroke:#00002d; stroke-width:0.8; stroke-opacity:1; fill:none\" points=\"\n",
       "  39.4926,194.045 47.8411,194.045 \n",
       "  \"/>\n",
       "<polyline clip-path=\"url(#clip02)\" style=\"stroke:#00002d; stroke-width:0.8; stroke-opacity:1; fill:none\" points=\"\n",
       "  39.4926,95.485 47.8411,95.485 \n",
       "  \"/>\n",
       "<g clip-path=\"url(#clip00)\">\n",
       "<text style=\"fill:#00002d; fill-opacity:1; font-family:Arial,Helvetica Neue,Helvetica,sans-serif; font-size:12; text-anchor:middle;\" transform=\"rotate(0, 39.4926, 396.952)\" x=\"39.4926\" y=\"396.952\">1.0</text>\n",
       "</g>\n",
       "<g clip-path=\"url(#clip00)\">\n",
       "<text style=\"fill:#00002d; fill-opacity:1; font-family:Arial,Helvetica Neue,Helvetica,sans-serif; font-size:12; text-anchor:middle;\" transform=\"rotate(0, 132.254, 396.952)\" x=\"132.254\" y=\"396.952\">1.5</text>\n",
       "</g>\n",
       "<g clip-path=\"url(#clip00)\">\n",
       "<text style=\"fill:#00002d; fill-opacity:1; font-family:Arial,Helvetica Neue,Helvetica,sans-serif; font-size:12; text-anchor:middle;\" transform=\"rotate(0, 225.016, 396.952)\" x=\"225.016\" y=\"396.952\">2.0</text>\n",
       "</g>\n",
       "<g clip-path=\"url(#clip00)\">\n",
       "<text style=\"fill:#00002d; fill-opacity:1; font-family:Arial,Helvetica Neue,Helvetica,sans-serif; font-size:12; text-anchor:middle;\" transform=\"rotate(0, 317.778, 396.952)\" x=\"317.778\" y=\"396.952\">2.5</text>\n",
       "</g>\n",
       "<g clip-path=\"url(#clip00)\">\n",
       "<text style=\"fill:#00002d; fill-opacity:1; font-family:Arial,Helvetica Neue,Helvetica,sans-serif; font-size:12; text-anchor:middle;\" transform=\"rotate(0, 410.54, 396.952)\" x=\"410.54\" y=\"396.952\">3.0</text>\n",
       "</g>\n",
       "<g clip-path=\"url(#clip00)\">\n",
       "<text style=\"fill:#00002d; fill-opacity:1; font-family:Arial,Helvetica Neue,Helvetica,sans-serif; font-size:12; text-anchor:middle;\" transform=\"rotate(0, 503.301, 396.952)\" x=\"503.301\" y=\"396.952\">3.5</text>\n",
       "</g>\n",
       "<g clip-path=\"url(#clip00)\">\n",
       "<text style=\"fill:#00002d; fill-opacity:1; font-family:Arial,Helvetica Neue,Helvetica,sans-serif; font-size:12; text-anchor:middle;\" transform=\"rotate(0, 596.063, 396.952)\" x=\"596.063\" y=\"396.952\">4.0</text>\n",
       "</g>\n",
       "<g clip-path=\"url(#clip00)\">\n",
       "<text style=\"fill:#00002d; fill-opacity:1; font-family:Arial,Helvetica Neue,Helvetica,sans-serif; font-size:12; text-anchor:end;\" transform=\"rotate(0, 38.2926, 297.104)\" x=\"38.2926\" y=\"297.104\">0.25</text>\n",
       "</g>\n",
       "<g clip-path=\"url(#clip00)\">\n",
       "<text style=\"fill:#00002d; fill-opacity:1; font-family:Arial,Helvetica Neue,Helvetica,sans-serif; font-size:12; text-anchor:end;\" transform=\"rotate(0, 38.2926, 198.545)\" x=\"38.2926\" y=\"198.545\">0.50</text>\n",
       "</g>\n",
       "<g clip-path=\"url(#clip00)\">\n",
       "<text style=\"fill:#00002d; fill-opacity:1; font-family:Arial,Helvetica Neue,Helvetica,sans-serif; font-size:12; text-anchor:end;\" transform=\"rotate(0, 38.2926, 99.985)\" x=\"38.2926\" y=\"99.985\">0.75</text>\n",
       "</g>\n",
       "<polyline clip-path=\"url(#clip02)\" style=\"stroke:#0099ff; stroke-width:0.8; stroke-opacity:1; fill:none\" points=\"\n",
       "  39.4926,134.609 225.016,250.866 410.54,328.962 596.063,365.942 \n",
       "  \"/>\n",
       "<polyline clip-path=\"url(#clip02)\" style=\"stroke:#e9746a; stroke-width:0.8; stroke-opacity:1; fill:none\" points=\"\n",
       "  39.4926,139.519 225.016,3.93701 410.54,329.085 596.063,148.812 \n",
       "  \"/>\n",
       "<polyline clip-path=\"url(#clip02)\" style=\"stroke:#3cb370; stroke-width:0.8; stroke-opacity:1; fill:none\" points=\"\n",
       "  39.4926,96.314 225.016,234.552 410.54,125.524 596.063,354.718 \n",
       "  \"/>\n",
       "<polyline clip-path=\"url(#clip02)\" style=\"stroke:#d96fd5; stroke-width:0.8; stroke-opacity:1; fill:none\" points=\"\n",
       "  39.4926,384.952 225.016,352.304 410.54,311.715 596.063,293.314 \n",
       "  \"/>\n",
       "<polygon clip-path=\"url(#clip00)\" points=\"\n",
       "505.547,100.417 578.063,100.417 578.063,24.817 505.547,24.817 \n",
       "  \" fill=\"#ffffff\" fill-opacity=\"1\"/>\n",
       "<polyline clip-path=\"url(#clip00)\" style=\"stroke:#00002d; stroke-width:0.8; stroke-opacity:1; fill:none\" points=\"\n",
       "  505.547,100.417 578.063,100.417 578.063,24.817 505.547,24.817 505.547,100.417 \n",
       "  \"/>\n",
       "<polyline clip-path=\"url(#clip00)\" style=\"stroke:#0099ff; stroke-width:0.8; stroke-opacity:1; fill:none\" points=\"\n",
       "  511.547,39.937 547.547,39.937 \n",
       "  \"/>\n",
       "<g clip-path=\"url(#clip00)\">\n",
       "<text style=\"fill:#00002d; fill-opacity:1; font-family:Arial,Helvetica Neue,Helvetica,sans-serif; font-size:12; text-anchor:start;\" transform=\"rotate(0, 553.547, 44.437)\" x=\"553.547\" y=\"44.437\">y1</text>\n",
       "</g>\n",
       "<polyline clip-path=\"url(#clip00)\" style=\"stroke:#e9746a; stroke-width:0.8; stroke-opacity:1; fill:none\" points=\"\n",
       "  511.547,55.057 547.547,55.057 \n",
       "  \"/>\n",
       "<g clip-path=\"url(#clip00)\">\n",
       "<text style=\"fill:#00002d; fill-opacity:1; font-family:Arial,Helvetica Neue,Helvetica,sans-serif; font-size:12; text-anchor:start;\" transform=\"rotate(0, 553.547, 59.557)\" x=\"553.547\" y=\"59.557\">y2</text>\n",
       "</g>\n",
       "<polyline clip-path=\"url(#clip00)\" style=\"stroke:#3cb370; stroke-width:0.8; stroke-opacity:1; fill:none\" points=\"\n",
       "  511.547,70.177 547.547,70.177 \n",
       "  \"/>\n",
       "<g clip-path=\"url(#clip00)\">\n",
       "<text style=\"fill:#00002d; fill-opacity:1; font-family:Arial,Helvetica Neue,Helvetica,sans-serif; font-size:12; text-anchor:start;\" transform=\"rotate(0, 553.547, 74.677)\" x=\"553.547\" y=\"74.677\">y3</text>\n",
       "</g>\n",
       "<polyline clip-path=\"url(#clip00)\" style=\"stroke:#d96fd5; stroke-width:0.8; stroke-opacity:1; fill:none\" points=\"\n",
       "  511.547,85.297 547.547,85.297 \n",
       "  \"/>\n",
       "<g clip-path=\"url(#clip00)\">\n",
       "<text style=\"fill:#00002d; fill-opacity:1; font-family:Arial,Helvetica Neue,Helvetica,sans-serif; font-size:12; text-anchor:start;\" transform=\"rotate(0, 553.547, 89.797)\" x=\"553.547\" y=\"89.797\">y4</text>\n",
       "</g>\n",
       "</svg>\n"
      ]
     },
     "execution_count": 6,
     "metadata": {},
     "output_type": "execute_result"
    }
   ],
   "source": [
    "Plots.gr()\n",
    "Plots.plot(rand(4,4))"
   ]
  },
  {
   "cell_type": "markdown",
   "metadata": {
    "collapsed": true
   },
   "source": [
    "### Exportando un paquete"
   ]
  },
  {
   "cell_type": "markdown",
   "metadata": {},
   "source": [
    "Podemos llenar el namespace con funciones de un paquete de la forma using Plots"
   ]
  },
  {
   "cell_type": "code",
   "execution_count": 7,
   "metadata": {
    "collapsed": false
   },
   "outputs": [
    {
     "name": "stderr",
     "output_type": "stream",
     "text": [
      "WARNING: using Plots.GR in module Main conflicts with an existing identifier.\n"
     ]
    }
   ],
   "source": [
    "using Plots"
   ]
  },
  {
   "cell_type": "code",
   "execution_count": 8,
   "metadata": {
    "collapsed": false
   },
   "outputs": [
    {
     "data": {
      "text/html": [
       "<?xml version=\"1.0\" encoding=\"utf-8\"?>\n",
       "<svg xmlns=\"http://www.w3.org/2000/svg\" xmlns:xlink=\"http://www.w3.org/1999/xlink\" width=\"600\" height=\"400\" viewBox=\"0 0 600 400\">\n",
       "<defs>\n",
       "  <clipPath id=\"clip00\">\n",
       "    <rect x=\"0\" y=\"0\" width=\"600\" height=\"400\"/>\n",
       "  </clipPath>\n",
       "</defs>\n",
       "<polygon clip-path=\"url(#clip00)\" points=\"\n",
       "0,400 600,400 600,0 0,0 \n",
       "  \" fill=\"#ffffff\" fill-opacity=\"1\"/>\n",
       "<defs>\n",
       "  <clipPath id=\"clip01\">\n",
       "    <rect x=\"120\" y=\"0\" width=\"421\" height=\"400\"/>\n",
       "  </clipPath>\n",
       "</defs>\n",
       "<polygon clip-path=\"url(#clip00)\" points=\"\n",
       "39.4926,384.952 596.063,384.952 596.063,3.93701 39.4926,3.93701 \n",
       "  \" fill=\"#ffffff\" fill-opacity=\"1\"/>\n",
       "<defs>\n",
       "  <clipPath id=\"clip02\">\n",
       "    <rect x=\"39\" y=\"3\" width=\"557\" height=\"382\"/>\n",
       "  </clipPath>\n",
       "</defs>\n",
       "<polyline clip-path=\"url(#clip02)\" style=\"stroke:#00002d; stroke-width:0.8; stroke-opacity:0.5; fill:none\" stroke-dasharray=\"1, 2\" points=\"\n",
       "  39.4926,379.237 39.4926,9.65223 \n",
       "  \"/>\n",
       "<polyline clip-path=\"url(#clip02)\" style=\"stroke:#00002d; stroke-width:0.8; stroke-opacity:0.5; fill:none\" stroke-dasharray=\"1, 2\" points=\"\n",
       "  132.254,379.237 132.254,9.65223 \n",
       "  \"/>\n",
       "<polyline clip-path=\"url(#clip02)\" style=\"stroke:#00002d; stroke-width:0.8; stroke-opacity:0.5; fill:none\" stroke-dasharray=\"1, 2\" points=\"\n",
       "  225.016,379.237 225.016,9.65223 \n",
       "  \"/>\n",
       "<polyline clip-path=\"url(#clip02)\" style=\"stroke:#00002d; stroke-width:0.8; stroke-opacity:0.5; fill:none\" stroke-dasharray=\"1, 2\" points=\"\n",
       "  317.778,379.237 317.778,9.65223 \n",
       "  \"/>\n",
       "<polyline clip-path=\"url(#clip02)\" style=\"stroke:#00002d; stroke-width:0.8; stroke-opacity:0.5; fill:none\" stroke-dasharray=\"1, 2\" points=\"\n",
       "  410.54,379.237 410.54,9.65223 \n",
       "  \"/>\n",
       "<polyline clip-path=\"url(#clip02)\" style=\"stroke:#00002d; stroke-width:0.8; stroke-opacity:0.5; fill:none\" stroke-dasharray=\"1, 2\" points=\"\n",
       "  503.301,379.237 503.301,9.65223 \n",
       "  \"/>\n",
       "<polyline clip-path=\"url(#clip02)\" style=\"stroke:#00002d; stroke-width:0.8; stroke-opacity:0.5; fill:none\" stroke-dasharray=\"1, 2\" points=\"\n",
       "  596.063,379.237 596.063,9.65223 \n",
       "  \"/>\n",
       "<polyline clip-path=\"url(#clip02)\" style=\"stroke:#00002d; stroke-width:0.8; stroke-opacity:0.5; fill:none\" stroke-dasharray=\"1, 2\" points=\"\n",
       "  47.8411,302.999 587.714,302.999 \n",
       "  \"/>\n",
       "<polyline clip-path=\"url(#clip02)\" style=\"stroke:#00002d; stroke-width:0.8; stroke-opacity:0.5; fill:none\" stroke-dasharray=\"1, 2\" points=\"\n",
       "  47.8411,200.32 587.714,200.32 \n",
       "  \"/>\n",
       "<polyline clip-path=\"url(#clip02)\" style=\"stroke:#00002d; stroke-width:0.8; stroke-opacity:0.5; fill:none\" stroke-dasharray=\"1, 2\" points=\"\n",
       "  47.8411,97.6405 587.714,97.6405 \n",
       "  \"/>\n",
       "<polyline clip-path=\"url(#clip02)\" style=\"stroke:#00002d; stroke-width:0.8; stroke-opacity:1; fill:none\" points=\"\n",
       "  39.4926,384.952 596.063,384.952 \n",
       "  \"/>\n",
       "<polyline clip-path=\"url(#clip02)\" style=\"stroke:#00002d; stroke-width:0.8; stroke-opacity:1; fill:none\" points=\"\n",
       "  39.4926,384.952 39.4926,379.237 \n",
       "  \"/>\n",
       "<polyline clip-path=\"url(#clip02)\" style=\"stroke:#00002d; stroke-width:0.8; stroke-opacity:1; fill:none\" points=\"\n",
       "  132.254,384.952 132.254,379.237 \n",
       "  \"/>\n",
       "<polyline clip-path=\"url(#clip02)\" style=\"stroke:#00002d; stroke-width:0.8; stroke-opacity:1; fill:none\" points=\"\n",
       "  225.016,384.952 225.016,379.237 \n",
       "  \"/>\n",
       "<polyline clip-path=\"url(#clip02)\" style=\"stroke:#00002d; stroke-width:0.8; stroke-opacity:1; fill:none\" points=\"\n",
       "  317.778,384.952 317.778,379.237 \n",
       "  \"/>\n",
       "<polyline clip-path=\"url(#clip02)\" style=\"stroke:#00002d; stroke-width:0.8; stroke-opacity:1; fill:none\" points=\"\n",
       "  410.54,384.952 410.54,379.237 \n",
       "  \"/>\n",
       "<polyline clip-path=\"url(#clip02)\" style=\"stroke:#00002d; stroke-width:0.8; stroke-opacity:1; fill:none\" points=\"\n",
       "  503.301,384.952 503.301,379.237 \n",
       "  \"/>\n",
       "<polyline clip-path=\"url(#clip02)\" style=\"stroke:#00002d; stroke-width:0.8; stroke-opacity:1; fill:none\" points=\"\n",
       "  596.063,384.952 596.063,379.237 \n",
       "  \"/>\n",
       "<polyline clip-path=\"url(#clip02)\" style=\"stroke:#00002d; stroke-width:0.8; stroke-opacity:1; fill:none\" points=\"\n",
       "  39.4926,384.952 39.4926,3.93701 \n",
       "  \"/>\n",
       "<polyline clip-path=\"url(#clip02)\" style=\"stroke:#00002d; stroke-width:0.8; stroke-opacity:1; fill:none\" points=\"\n",
       "  39.4926,302.999 47.8411,302.999 \n",
       "  \"/>\n",
       "<polyline clip-path=\"url(#clip02)\" style=\"stroke:#00002d; stroke-width:0.8; stroke-opacity:1; fill:none\" points=\"\n",
       "  39.4926,200.32 47.8411,200.32 \n",
       "  \"/>\n",
       "<polyline clip-path=\"url(#clip02)\" style=\"stroke:#00002d; stroke-width:0.8; stroke-opacity:1; fill:none\" points=\"\n",
       "  39.4926,97.6405 47.8411,97.6405 \n",
       "  \"/>\n",
       "<g clip-path=\"url(#clip00)\">\n",
       "<text style=\"fill:#00002d; fill-opacity:1; font-family:Arial,Helvetica Neue,Helvetica,sans-serif; font-size:12; text-anchor:middle;\" transform=\"rotate(0, 39.4926, 396.952)\" x=\"39.4926\" y=\"396.952\">1.0</text>\n",
       "</g>\n",
       "<g clip-path=\"url(#clip00)\">\n",
       "<text style=\"fill:#00002d; fill-opacity:1; font-family:Arial,Helvetica Neue,Helvetica,sans-serif; font-size:12; text-anchor:middle;\" transform=\"rotate(0, 132.254, 396.952)\" x=\"132.254\" y=\"396.952\">1.5</text>\n",
       "</g>\n",
       "<g clip-path=\"url(#clip00)\">\n",
       "<text style=\"fill:#00002d; fill-opacity:1; font-family:Arial,Helvetica Neue,Helvetica,sans-serif; font-size:12; text-anchor:middle;\" transform=\"rotate(0, 225.016, 396.952)\" x=\"225.016\" y=\"396.952\">2.0</text>\n",
       "</g>\n",
       "<g clip-path=\"url(#clip00)\">\n",
       "<text style=\"fill:#00002d; fill-opacity:1; font-family:Arial,Helvetica Neue,Helvetica,sans-serif; font-size:12; text-anchor:middle;\" transform=\"rotate(0, 317.778, 396.952)\" x=\"317.778\" y=\"396.952\">2.5</text>\n",
       "</g>\n",
       "<g clip-path=\"url(#clip00)\">\n",
       "<text style=\"fill:#00002d; fill-opacity:1; font-family:Arial,Helvetica Neue,Helvetica,sans-serif; font-size:12; text-anchor:middle;\" transform=\"rotate(0, 410.54, 396.952)\" x=\"410.54\" y=\"396.952\">3.0</text>\n",
       "</g>\n",
       "<g clip-path=\"url(#clip00)\">\n",
       "<text style=\"fill:#00002d; fill-opacity:1; font-family:Arial,Helvetica Neue,Helvetica,sans-serif; font-size:12; text-anchor:middle;\" transform=\"rotate(0, 503.301, 396.952)\" x=\"503.301\" y=\"396.952\">3.5</text>\n",
       "</g>\n",
       "<g clip-path=\"url(#clip00)\">\n",
       "<text style=\"fill:#00002d; fill-opacity:1; font-family:Arial,Helvetica Neue,Helvetica,sans-serif; font-size:12; text-anchor:middle;\" transform=\"rotate(0, 596.063, 396.952)\" x=\"596.063\" y=\"396.952\">4.0</text>\n",
       "</g>\n",
       "<g clip-path=\"url(#clip00)\">\n",
       "<text style=\"fill:#00002d; fill-opacity:1; font-family:Arial,Helvetica Neue,Helvetica,sans-serif; font-size:12; text-anchor:end;\" transform=\"rotate(0, 38.2926, 307.499)\" x=\"38.2926\" y=\"307.499\">0.25</text>\n",
       "</g>\n",
       "<g clip-path=\"url(#clip00)\">\n",
       "<text style=\"fill:#00002d; fill-opacity:1; font-family:Arial,Helvetica Neue,Helvetica,sans-serif; font-size:12; text-anchor:end;\" transform=\"rotate(0, 38.2926, 204.82)\" x=\"38.2926\" y=\"204.82\">0.50</text>\n",
       "</g>\n",
       "<g clip-path=\"url(#clip00)\">\n",
       "<text style=\"fill:#00002d; fill-opacity:1; font-family:Arial,Helvetica Neue,Helvetica,sans-serif; font-size:12; text-anchor:end;\" transform=\"rotate(0, 38.2926, 102.14)\" x=\"38.2926\" y=\"102.14\">0.75</text>\n",
       "</g>\n",
       "<polyline clip-path=\"url(#clip02)\" style=\"stroke:#0099ff; stroke-width:0.8; stroke-opacity:1; fill:none\" points=\"\n",
       "  39.4926,149.263 225.016,89.0979 410.54,264.049 596.063,3.93701 \n",
       "  \"/>\n",
       "<polyline clip-path=\"url(#clip02)\" style=\"stroke:#e9746a; stroke-width:0.8; stroke-opacity:1; fill:none\" points=\"\n",
       "  39.4926,334.908 225.016,87.4562 410.54,314.086 596.063,327.003 \n",
       "  \"/>\n",
       "<polyline clip-path=\"url(#clip02)\" style=\"stroke:#3cb370; stroke-width:0.8; stroke-opacity:1; fill:none\" points=\"\n",
       "  39.4926,34.2571 225.016,107.25 410.54,382.731 596.063,277.605 \n",
       "  \"/>\n",
       "<polyline clip-path=\"url(#clip02)\" style=\"stroke:#d96fd5; stroke-width:0.8; stroke-opacity:1; fill:none\" points=\"\n",
       "  39.4926,198.871 225.016,47.6814 410.54,384.952 596.063,12.856 \n",
       "  \"/>\n",
       "<polygon clip-path=\"url(#clip00)\" points=\"\n",
       "505.547,100.417 578.063,100.417 578.063,24.817 505.547,24.817 \n",
       "  \" fill=\"#ffffff\" fill-opacity=\"1\"/>\n",
       "<polyline clip-path=\"url(#clip00)\" style=\"stroke:#00002d; stroke-width:0.8; stroke-opacity:1; fill:none\" points=\"\n",
       "  505.547,100.417 578.063,100.417 578.063,24.817 505.547,24.817 505.547,100.417 \n",
       "  \"/>\n",
       "<polyline clip-path=\"url(#clip00)\" style=\"stroke:#0099ff; stroke-width:0.8; stroke-opacity:1; fill:none\" points=\"\n",
       "  511.547,39.937 547.547,39.937 \n",
       "  \"/>\n",
       "<g clip-path=\"url(#clip00)\">\n",
       "<text style=\"fill:#00002d; fill-opacity:1; font-family:Arial,Helvetica Neue,Helvetica,sans-serif; font-size:12; text-anchor:start;\" transform=\"rotate(0, 553.547, 44.437)\" x=\"553.547\" y=\"44.437\">y1</text>\n",
       "</g>\n",
       "<polyline clip-path=\"url(#clip00)\" style=\"stroke:#e9746a; stroke-width:0.8; stroke-opacity:1; fill:none\" points=\"\n",
       "  511.547,55.057 547.547,55.057 \n",
       "  \"/>\n",
       "<g clip-path=\"url(#clip00)\">\n",
       "<text style=\"fill:#00002d; fill-opacity:1; font-family:Arial,Helvetica Neue,Helvetica,sans-serif; font-size:12; text-anchor:start;\" transform=\"rotate(0, 553.547, 59.557)\" x=\"553.547\" y=\"59.557\">y2</text>\n",
       "</g>\n",
       "<polyline clip-path=\"url(#clip00)\" style=\"stroke:#3cb370; stroke-width:0.8; stroke-opacity:1; fill:none\" points=\"\n",
       "  511.547,70.177 547.547,70.177 \n",
       "  \"/>\n",
       "<g clip-path=\"url(#clip00)\">\n",
       "<text style=\"fill:#00002d; fill-opacity:1; font-family:Arial,Helvetica Neue,Helvetica,sans-serif; font-size:12; text-anchor:start;\" transform=\"rotate(0, 553.547, 74.677)\" x=\"553.547\" y=\"74.677\">y3</text>\n",
       "</g>\n",
       "<polyline clip-path=\"url(#clip00)\" style=\"stroke:#d96fd5; stroke-width:0.8; stroke-opacity:1; fill:none\" points=\"\n",
       "  511.547,85.297 547.547,85.297 \n",
       "  \"/>\n",
       "<g clip-path=\"url(#clip00)\">\n",
       "<text style=\"fill:#00002d; fill-opacity:1; font-family:Arial,Helvetica Neue,Helvetica,sans-serif; font-size:12; text-anchor:start;\" transform=\"rotate(0, 553.547, 89.797)\" x=\"553.547\" y=\"89.797\">y4</text>\n",
       "</g>\n",
       "</svg>\n"
      ]
     },
     "execution_count": 8,
     "metadata": {},
     "output_type": "execute_result"
    }
   ],
   "source": [
    "plot(rand(4,4))"
   ]
  },
  {
   "cell_type": "markdown",
   "metadata": {},
   "source": [
    "## Una introdución basica a Julia (Documentación)"
   ]
  },
  {
   "cell_type": "code",
   "execution_count": 9,
   "metadata": {
    "collapsed": false
   },
   "outputs": [
    {
     "name": "stdout",
     "output_type": "stream",
     "text": [
      "search: copy copy! copysign deepcopy unsafe_copy! cospi comp3 comp2 comp1\n",
      "\n"
     ]
    },
    {
     "data": {
      "text/markdown": [
       "```\n",
       "copy(x)\n",
       "```\n",
       "\n",
       "Create a shallow copy of `x`: the outer structure is copied, but not all internal values. For example, copying an array produces a new array with identically-same elements as the original.\n"
      ],
      "text/plain": [
       "```\n",
       "copy(x)\n",
       "```\n",
       "\n",
       "Create a shallow copy of `x`: the outer structure is copied, but not all internal values. For example, copying an array produces a new array with identically-same elements as the original.\n"
      ]
     },
     "execution_count": 9,
     "metadata": {},
     "output_type": "execute_result"
    }
   ],
   "source": [
    "?copy"
   ]
  },
  {
   "cell_type": "code",
   "execution_count": 11,
   "metadata": {
    "collapsed": false
   },
   "outputs": [
    {
     "data": {
      "text/html": [
       "179 methods for generic function <b>+</b>:<ul><li> +(x::<b>Bool</b>, z::<b>Complex{Bool}</b>) at <a href=\"https://github.com/JuliaLang/julia/tree/3c9d75391c72d7c32eea75ff187ce77b2d5effc8/base/complex.jl#L136\" target=\"_blank\">complex.jl:136</a></li> <li> +(x::<b>Bool</b>, y::<b>Bool</b>) at <a href=\"https://github.com/JuliaLang/julia/tree/3c9d75391c72d7c32eea75ff187ce77b2d5effc8/base/bool.jl#L48\" target=\"_blank\">bool.jl:48</a></li> <li> +(x::<b>Bool</b>) at <a href=\"https://github.com/JuliaLang/julia/tree/3c9d75391c72d7c32eea75ff187ce77b2d5effc8/base/bool.jl#L45\" target=\"_blank\">bool.jl:45</a></li> <li> +<i>{T<:AbstractFloat}</i>(x::<b>Bool</b>, y::<b>T</b>) at <a href=\"https://github.com/JuliaLang/julia/tree/3c9d75391c72d7c32eea75ff187ce77b2d5effc8/base/bool.jl#L55\" target=\"_blank\">bool.jl:55</a></li> <li> +(x::<b>Bool</b>, z::<b>Complex</b>) at <a href=\"https://github.com/JuliaLang/julia/tree/3c9d75391c72d7c32eea75ff187ce77b2d5effc8/base/complex.jl#L143\" target=\"_blank\">complex.jl:143</a></li> <li> +(x::<b>Bool</b>, A::<b>AbstractArray{Bool,N<:Any}</b>) at <a href=\"https://github.com/JuliaLang/julia/tree/3c9d75391c72d7c32eea75ff187ce77b2d5effc8/base/arraymath.jl#L91\" target=\"_blank\">arraymath.jl:91</a></li> <li> +(x::<b>Float32</b>, y::<b>Float32</b>) at <a href=\"https://github.com/JuliaLang/julia/tree/3c9d75391c72d7c32eea75ff187ce77b2d5effc8/base/float.jl#L239\" target=\"_blank\">float.jl:239</a></li> <li> +(x::<b>Float64</b>, y::<b>Float64</b>) at <a href=\"https://github.com/JuliaLang/julia/tree/3c9d75391c72d7c32eea75ff187ce77b2d5effc8/base/float.jl#L240\" target=\"_blank\">float.jl:240</a></li> <li> +(z::<b>Complex{Bool}</b>, x::<b>Bool</b>) at <a href=\"https://github.com/JuliaLang/julia/tree/3c9d75391c72d7c32eea75ff187ce77b2d5effc8/base/complex.jl#L137\" target=\"_blank\">complex.jl:137</a></li> <li> +(z::<b>Complex{Bool}</b>, x::<b>Real</b>) at <a href=\"https://github.com/JuliaLang/julia/tree/3c9d75391c72d7c32eea75ff187ce77b2d5effc8/base/complex.jl#L151\" target=\"_blank\">complex.jl:151</a></li> <li> +(a::<b>Float16</b>, b::<b>Float16</b>) at <a href=\"https://github.com/JuliaLang/julia/tree/3c9d75391c72d7c32eea75ff187ce77b2d5effc8/base/float16.jl#L136\" target=\"_blank\">float16.jl:136</a></li> <li> +(x::<b>Char</b>, y::<b>Integer</b>) at <a href=\"https://github.com/JuliaLang/julia/tree/3c9d75391c72d7c32eea75ff187ce77b2d5effc8/base/char.jl#L40\" target=\"_blank\">char.jl:40</a></li> <li> +(c::<b>BigInt</b>, x::<b>BigFloat</b>) at <a href=\"https://github.com/JuliaLang/julia/tree/3c9d75391c72d7c32eea75ff187ce77b2d5effc8/base/mpfr.jl#L240\" target=\"_blank\">mpfr.jl:240</a></li> <li> +(a::<b>BigInt</b>, b::<b>BigInt</b>, c::<b>BigInt</b>, d::<b>BigInt</b>, e::<b>BigInt</b>) at <a href=\"https://github.com/JuliaLang/julia/tree/3c9d75391c72d7c32eea75ff187ce77b2d5effc8/base/gmp.jl#L298\" target=\"_blank\">gmp.jl:298</a></li> <li> +(a::<b>BigInt</b>, b::<b>BigInt</b>, c::<b>BigInt</b>, d::<b>BigInt</b>) at <a href=\"https://github.com/JuliaLang/julia/tree/3c9d75391c72d7c32eea75ff187ce77b2d5effc8/base/gmp.jl#L291\" target=\"_blank\">gmp.jl:291</a></li> <li> +(a::<b>BigInt</b>, b::<b>BigInt</b>, c::<b>BigInt</b>) at <a href=\"https://github.com/JuliaLang/julia/tree/3c9d75391c72d7c32eea75ff187ce77b2d5effc8/base/gmp.jl#L285\" target=\"_blank\">gmp.jl:285</a></li> <li> +(x::<b>BigInt</b>, y::<b>BigInt</b>) at <a href=\"https://github.com/JuliaLang/julia/tree/3c9d75391c72d7c32eea75ff187ce77b2d5effc8/base/gmp.jl#L255\" target=\"_blank\">gmp.jl:255</a></li> <li> +(x::<b>BigInt</b>, c::<b>Union{UInt16,UInt32,UInt64,UInt8}</b>) at <a href=\"https://github.com/JuliaLang/julia/tree/3c9d75391c72d7c32eea75ff187ce77b2d5effc8/base/gmp.jl#L310\" target=\"_blank\">gmp.jl:310</a></li> <li> +(x::<b>BigInt</b>, c::<b>Union{Int16,Int32,Int64,Int8}</b>) at <a href=\"https://github.com/JuliaLang/julia/tree/3c9d75391c72d7c32eea75ff187ce77b2d5effc8/base/gmp.jl#L326\" target=\"_blank\">gmp.jl:326</a></li> <li> +(a::<b>BigFloat</b>, b::<b>BigFloat</b>, c::<b>BigFloat</b>, d::<b>BigFloat</b>, e::<b>BigFloat</b>) at <a href=\"https://github.com/JuliaLang/julia/tree/3c9d75391c72d7c32eea75ff187ce77b2d5effc8/base/mpfr.jl#L388\" target=\"_blank\">mpfr.jl:388</a></li> <li> +(a::<b>BigFloat</b>, b::<b>BigFloat</b>, c::<b>BigFloat</b>, d::<b>BigFloat</b>) at <a href=\"https://github.com/JuliaLang/julia/tree/3c9d75391c72d7c32eea75ff187ce77b2d5effc8/base/mpfr.jl#L381\" target=\"_blank\">mpfr.jl:381</a></li> <li> +(a::<b>BigFloat</b>, b::<b>BigFloat</b>, c::<b>BigFloat</b>) at <a href=\"https://github.com/JuliaLang/julia/tree/3c9d75391c72d7c32eea75ff187ce77b2d5effc8/base/mpfr.jl#L375\" target=\"_blank\">mpfr.jl:375</a></li> <li> +(x::<b>BigFloat</b>, c::<b>BigInt</b>) at <a href=\"https://github.com/JuliaLang/julia/tree/3c9d75391c72d7c32eea75ff187ce77b2d5effc8/base/mpfr.jl#L236\" target=\"_blank\">mpfr.jl:236</a></li> <li> +(x::<b>BigFloat</b>, y::<b>BigFloat</b>) at <a href=\"https://github.com/JuliaLang/julia/tree/3c9d75391c72d7c32eea75ff187ce77b2d5effc8/base/mpfr.jl#L205\" target=\"_blank\">mpfr.jl:205</a></li> <li> +(x::<b>BigFloat</b>, c::<b>Union{UInt16,UInt32,UInt64,UInt8}</b>) at <a href=\"https://github.com/JuliaLang/julia/tree/3c9d75391c72d7c32eea75ff187ce77b2d5effc8/base/mpfr.jl#L212\" target=\"_blank\">mpfr.jl:212</a></li> <li> +(x::<b>BigFloat</b>, c::<b>Union{Int16,Int32,Int64,Int8}</b>) at <a href=\"https://github.com/JuliaLang/julia/tree/3c9d75391c72d7c32eea75ff187ce77b2d5effc8/base/mpfr.jl#L220\" target=\"_blank\">mpfr.jl:220</a></li> <li> +(x::<b>BigFloat</b>, c::<b>Union{Float16,Float32,Float64}</b>) at <a href=\"https://github.com/JuliaLang/julia/tree/3c9d75391c72d7c32eea75ff187ce77b2d5effc8/base/mpfr.jl#L228\" target=\"_blank\">mpfr.jl:228</a></li> <li> +<i>{T}</i>(B::<b>BitArray{2}</b>, J::<b>UniformScaling{T}</b>) at <a href=\"https://github.com/JuliaLang/julia/tree/3c9d75391c72d7c32eea75ff187ce77b2d5effc8/base/linalg/uniformscaling.jl#L38\" target=\"_blank\">linalg/uniformscaling.jl:38</a></li> <li> +(a::<b>Base.Pkg.Resolve.VersionWeights.VWPreBuildItem</b>, b::<b>Base.Pkg.Resolve.VersionWeights.VWPreBuildItem</b>) at <a href=\"https://github.com/JuliaLang/julia/tree/3c9d75391c72d7c32eea75ff187ce77b2d5effc8/base/pkg/resolve/versionweight.jl#L85\" target=\"_blank\">pkg/resolve/versionweight.jl:85</a></li> <li> +(a::<b>Base.Pkg.Resolve.VersionWeights.VWPreBuild</b>, b::<b>Base.Pkg.Resolve.VersionWeights.VWPreBuild</b>) at <a href=\"https://github.com/JuliaLang/julia/tree/3c9d75391c72d7c32eea75ff187ce77b2d5effc8/base/pkg/resolve/versionweight.jl#L131\" target=\"_blank\">pkg/resolve/versionweight.jl:131</a></li> <li> +(a::<b>Base.Pkg.Resolve.VersionWeights.VersionWeight</b>, b::<b>Base.Pkg.Resolve.VersionWeights.VersionWeight</b>) at <a href=\"https://github.com/JuliaLang/julia/tree/3c9d75391c72d7c32eea75ff187ce77b2d5effc8/base/pkg/resolve/versionweight.jl#L185\" target=\"_blank\">pkg/resolve/versionweight.jl:185</a></li> <li> +(a::<b>Base.Pkg.Resolve.MaxSum.FieldValues.FieldValue</b>, b::<b>Base.Pkg.Resolve.MaxSum.FieldValues.FieldValue</b>) at <a href=\"https://github.com/JuliaLang/julia/tree/3c9d75391c72d7c32eea75ff187ce77b2d5effc8/base/pkg/resolve/fieldvalue.jl#L44\" target=\"_blank\">pkg/resolve/fieldvalue.jl:44</a></li> <li> +(x::<b>Base.Dates.CompoundPeriod</b>, y::<b>Base.Dates.CompoundPeriod</b>) at <a href=\"https://github.com/JuliaLang/julia/tree/3c9d75391c72d7c32eea75ff187ce77b2d5effc8/base/dates/periods.jl#L314\" target=\"_blank\">dates/periods.jl:314</a></li> <li> +(x::<b>Base.Dates.CompoundPeriod</b>, y::<b>Base.Dates.Period</b>) at <a href=\"https://github.com/JuliaLang/julia/tree/3c9d75391c72d7c32eea75ff187ce77b2d5effc8/base/dates/periods.jl#L312\" target=\"_blank\">dates/periods.jl:312</a></li> <li> +(x::<b>Base.Dates.CompoundPeriod</b>, y::<b>Base.Dates.TimeType</b>) at <a href=\"https://github.com/JuliaLang/julia/tree/3c9d75391c72d7c32eea75ff187ce77b2d5effc8/base/dates/periods.jl#L359\" target=\"_blank\">dates/periods.jl:359</a></li> <li> +(dt::<b>DateTime</b>, z::<b>Base.Dates.Month</b>) at <a href=\"https://github.com/JuliaLang/julia/tree/3c9d75391c72d7c32eea75ff187ce77b2d5effc8/base/dates/arithmetic.jl#L37\" target=\"_blank\">dates/arithmetic.jl:37</a></li> <li> +(dt::<b>DateTime</b>, y::<b>Base.Dates.Year</b>) at <a href=\"https://github.com/JuliaLang/julia/tree/3c9d75391c72d7c32eea75ff187ce77b2d5effc8/base/dates/arithmetic.jl#L13\" target=\"_blank\">dates/arithmetic.jl:13</a></li> <li> +(x::<b>DateTime</b>, y::<b>Base.Dates.Period</b>) at <a href=\"https://github.com/JuliaLang/julia/tree/3c9d75391c72d7c32eea75ff187ce77b2d5effc8/base/dates/arithmetic.jl#L64\" target=\"_blank\">dates/arithmetic.jl:64</a></li> <li> +(x::<b>Date</b>, y::<b>Base.Dates.Day</b>) at <a href=\"https://github.com/JuliaLang/julia/tree/3c9d75391c72d7c32eea75ff187ce77b2d5effc8/base/dates/arithmetic.jl#L62\" target=\"_blank\">dates/arithmetic.jl:62</a></li> <li> +(x::<b>Date</b>, y::<b>Base.Dates.Week</b>) at <a href=\"https://github.com/JuliaLang/julia/tree/3c9d75391c72d7c32eea75ff187ce77b2d5effc8/base/dates/arithmetic.jl#L60\" target=\"_blank\">dates/arithmetic.jl:60</a></li> <li> +(dt::<b>Date</b>, z::<b>Base.Dates.Month</b>) at <a href=\"https://github.com/JuliaLang/julia/tree/3c9d75391c72d7c32eea75ff187ce77b2d5effc8/base/dates/arithmetic.jl#L43\" target=\"_blank\">dates/arithmetic.jl:43</a></li> <li> +(dt::<b>Date</b>, y::<b>Base.Dates.Year</b>) at <a href=\"https://github.com/JuliaLang/julia/tree/3c9d75391c72d7c32eea75ff187ce77b2d5effc8/base/dates/arithmetic.jl#L17\" target=\"_blank\">dates/arithmetic.jl:17</a></li> <li> +(y::<b>AbstractFloat</b>, x::<b>Bool</b>) at <a href=\"https://github.com/JuliaLang/julia/tree/3c9d75391c72d7c32eea75ff187ce77b2d5effc8/base/bool.jl#L57\" target=\"_blank\">bool.jl:57</a></li> <li> +<i>{T<:Union{Int128,Int16,Int32,Int64,Int8,UInt128,UInt16,UInt32,UInt64,UInt8}}</i>(x::<b>T</b>, y::<b>T</b>) at <a href=\"https://github.com/JuliaLang/julia/tree/3c9d75391c72d7c32eea75ff187ce77b2d5effc8/base/int.jl#L32\" target=\"_blank\">int.jl:32</a></li> <li> +(x::<b>Integer</b>, y::<b>Ptr</b>) at <a href=\"https://github.com/JuliaLang/julia/tree/3c9d75391c72d7c32eea75ff187ce77b2d5effc8/base/pointer.jl#L108\" target=\"_blank\">pointer.jl:108</a></li> <li> +(z::<b>Complex</b>, w::<b>Complex</b>) at <a href=\"https://github.com/JuliaLang/julia/tree/3c9d75391c72d7c32eea75ff187ce77b2d5effc8/base/complex.jl#L125\" target=\"_blank\">complex.jl:125</a></li> <li> +(z::<b>Complex</b>, x::<b>Bool</b>) at <a href=\"https://github.com/JuliaLang/julia/tree/3c9d75391c72d7c32eea75ff187ce77b2d5effc8/base/complex.jl#L144\" target=\"_blank\">complex.jl:144</a></li> <li> +(x::<b>Real</b>, z::<b>Complex{Bool}</b>) at <a href=\"https://github.com/JuliaLang/julia/tree/3c9d75391c72d7c32eea75ff187ce77b2d5effc8/base/complex.jl#L150\" target=\"_blank\">complex.jl:150</a></li> <li> +(x::<b>Real</b>, z::<b>Complex</b>) at <a href=\"https://github.com/JuliaLang/julia/tree/3c9d75391c72d7c32eea75ff187ce77b2d5effc8/base/complex.jl#L162\" target=\"_blank\">complex.jl:162</a></li> <li> +(z::<b>Complex</b>, x::<b>Real</b>) at <a href=\"https://github.com/JuliaLang/julia/tree/3c9d75391c72d7c32eea75ff187ce77b2d5effc8/base/complex.jl#L163\" target=\"_blank\">complex.jl:163</a></li> <li> +(x::<b>Rational</b>, y::<b>Rational</b>) at <a href=\"https://github.com/JuliaLang/julia/tree/3c9d75391c72d7c32eea75ff187ce77b2d5effc8/base/rational.jl#L199\" target=\"_blank\">rational.jl:199</a></li> <li> +(x::<b>Integer</b>, y::<b>Char</b>) at <a href=\"https://github.com/JuliaLang/julia/tree/3c9d75391c72d7c32eea75ff187ce77b2d5effc8/base/char.jl#L41\" target=\"_blank\">char.jl:41</a></li> <li> +<i>{N}</i>(i::<b>Integer</b>, index::<b>CartesianIndex{N}</b>) at <a href=\"https://github.com/JuliaLang/julia/tree/3c9d75391c72d7c32eea75ff187ce77b2d5effc8/base/multidimensional.jl#L58\" target=\"_blank\">multidimensional.jl:58</a></li> <li> +(c::<b>Union{UInt16,UInt32,UInt64,UInt8}</b>, x::<b>BigInt</b>) at <a href=\"https://github.com/JuliaLang/julia/tree/3c9d75391c72d7c32eea75ff187ce77b2d5effc8/base/gmp.jl#L314\" target=\"_blank\">gmp.jl:314</a></li> <li> +(c::<b>Union{Int16,Int32,Int64,Int8}</b>, x::<b>BigInt</b>) at <a href=\"https://github.com/JuliaLang/julia/tree/3c9d75391c72d7c32eea75ff187ce77b2d5effc8/base/gmp.jl#L327\" target=\"_blank\">gmp.jl:327</a></li> <li> +(c::<b>Union{UInt16,UInt32,UInt64,UInt8}</b>, x::<b>BigFloat</b>) at <a href=\"https://github.com/JuliaLang/julia/tree/3c9d75391c72d7c32eea75ff187ce77b2d5effc8/base/mpfr.jl#L216\" target=\"_blank\">mpfr.jl:216</a></li> <li> +(c::<b>Union{Int16,Int32,Int64,Int8}</b>, x::<b>BigFloat</b>) at <a href=\"https://github.com/JuliaLang/julia/tree/3c9d75391c72d7c32eea75ff187ce77b2d5effc8/base/mpfr.jl#L224\" target=\"_blank\">mpfr.jl:224</a></li> <li> +(c::<b>Union{Float16,Float32,Float64}</b>, x::<b>BigFloat</b>) at <a href=\"https://github.com/JuliaLang/julia/tree/3c9d75391c72d7c32eea75ff187ce77b2d5effc8/base/mpfr.jl#L232\" target=\"_blank\">mpfr.jl:232</a></li> <li> +(x::<b>Irrational</b>, y::<b>Irrational</b>) at <a href=\"https://github.com/JuliaLang/julia/tree/3c9d75391c72d7c32eea75ff187ce77b2d5effc8/base/irrationals.jl#L88\" target=\"_blank\">irrationals.jl:88</a></li> <li> +<i>{T,f}</i>(x::<b>FixedPointNumbers.Fixed{T,f}</b>, y::<b>FixedPointNumbers.Fixed{T,f}</b>) at <a href=\"https://github.com/JuliaMath/FixedPointNumbers.jl/tree/ccb4267a45687abbb1dc2a543cb3587f58bdaf2a/src/fixed.jl#L22\" target=\"_blank\">/home/dgromov/.julia/v0.5/FixedPointNumbers/src/fixed.jl:22</a></li> <li> +<i>{T,f}</i>(x::<b>FixedPointNumbers.UFixed{T,f}</b>, y::<b>FixedPointNumbers.UFixed{T,f}</b>) at <a href=\"https://github.com/JuliaMath/FixedPointNumbers.jl/tree/ccb4267a45687abbb1dc2a543cb3587f58bdaf2a/src/ufixed.jl#L88\" target=\"_blank\">/home/dgromov/.julia/v0.5/FixedPointNumbers/src/ufixed.jl:88</a></li> <li> +(x::<b>Number</b>) at <a href=\"https://github.com/JuliaLang/julia/tree/3c9d75391c72d7c32eea75ff187ce77b2d5effc8/base/operators.jl#L115\" target=\"_blank\">operators.jl:115</a></li> <li> +<i>{T<:Number}</i>(x::<b>T</b>, y::<b>T</b>) at <a href=\"https://github.com/JuliaLang/julia/tree/3c9d75391c72d7c32eea75ff187ce77b2d5effc8/base/promotion.jl#L255\" target=\"_blank\">promotion.jl:255</a></li> <li> +(x::<b>Number</b>, y::<b>Number</b>) at <a href=\"https://github.com/JuliaLang/julia/tree/3c9d75391c72d7c32eea75ff187ce77b2d5effc8/base/promotion.jl#L190\" target=\"_blank\">promotion.jl:190</a></li> <li> +(r1::<b>OrdinalRange</b>, r2::<b>OrdinalRange</b>) at <a href=\"https://github.com/JuliaLang/julia/tree/3c9d75391c72d7c32eea75ff187ce77b2d5effc8/base/operators.jl#L505\" target=\"_blank\">operators.jl:505</a></li> <li> +<i>{T<:AbstractFloat}</i>(r1::<b>FloatRange{T}</b>, r2::<b>FloatRange{T}</b>) at <a href=\"https://github.com/JuliaLang/julia/tree/3c9d75391c72d7c32eea75ff187ce77b2d5effc8/base/operators.jl#L512\" target=\"_blank\">operators.jl:512</a></li> <li> +<i>{T<:AbstractFloat}</i>(r1::<b>LinSpace{T}</b>, r2::<b>LinSpace{T}</b>) at <a href=\"https://github.com/JuliaLang/julia/tree/3c9d75391c72d7c32eea75ff187ce77b2d5effc8/base/operators.jl#L531\" target=\"_blank\">operators.jl:531</a></li> <li> +(r1::<b>Union{FloatRange,LinSpace,OrdinalRange}</b>, r2::<b>Union{FloatRange,LinSpace,OrdinalRange}</b>) at <a href=\"https://github.com/JuliaLang/julia/tree/3c9d75391c72d7c32eea75ff187ce77b2d5effc8/base/operators.jl#L544\" target=\"_blank\">operators.jl:544</a></li> <li> +(x::<b>Ptr</b>, y::<b>Integer</b>) at <a href=\"https://github.com/JuliaLang/julia/tree/3c9d75391c72d7c32eea75ff187ce77b2d5effc8/base/pointer.jl#L106\" target=\"_blank\">pointer.jl:106</a></li> <li> +(A::<b>BitArray</b>, B::<b>BitArray</b>) at <a href=\"https://github.com/JuliaLang/julia/tree/3c9d75391c72d7c32eea75ff187ce77b2d5effc8/base/bitarray.jl#L1042\" target=\"_blank\">bitarray.jl:1042</a></li> <li> +(A::<b>Array{T<:Any,2}</b>, B::<b>Diagonal</b>) at <a href=\"https://github.com/JuliaLang/julia/tree/3c9d75391c72d7c32eea75ff187ce77b2d5effc8/base/linalg/special.jl#L121\" target=\"_blank\">linalg/special.jl:121</a></li> <li> +(A::<b>Array{T<:Any,2}</b>, B::<b>Bidiagonal</b>) at <a href=\"https://github.com/JuliaLang/julia/tree/3c9d75391c72d7c32eea75ff187ce77b2d5effc8/base/linalg/special.jl#L121\" target=\"_blank\">linalg/special.jl:121</a></li> <li> +(A::<b>Array{T<:Any,2}</b>, B::<b>Tridiagonal</b>) at <a href=\"https://github.com/JuliaLang/julia/tree/3c9d75391c72d7c32eea75ff187ce77b2d5effc8/base/linalg/special.jl#L121\" target=\"_blank\">linalg/special.jl:121</a></li> <li> +(A::<b>Array{T<:Any,2}</b>, B::<b>SymTridiagonal</b>) at <a href=\"https://github.com/JuliaLang/julia/tree/3c9d75391c72d7c32eea75ff187ce77b2d5effc8/base/linalg/special.jl#L130\" target=\"_blank\">linalg/special.jl:130</a></li> <li> +(A::<b>Array{T<:Any,2}</b>, B::<b>Base.LinAlg.AbstractTriangular</b>) at <a href=\"https://github.com/JuliaLang/julia/tree/3c9d75391c72d7c32eea75ff187ce77b2d5effc8/base/linalg/special.jl#L158\" target=\"_blank\">linalg/special.jl:158</a></li> <li> +(A::<b>Array</b>, B::<b>SparseMatrixCSC</b>) at <a href=\"https://github.com/JuliaLang/julia/tree/3c9d75391c72d7c32eea75ff187ce77b2d5effc8/base/sparse/sparsematrix.jl#L1711\" target=\"_blank\">sparse/sparsematrix.jl:1711</a></li> <li> +<i>{T<:FixedSizeArrays.FixedArray{T,NDim,SIZE},ND}</i>(a::<b>Array{T,ND}</b>, x::<b>T</b>) at <a href=\"https://github.com/SimonDanisch/FixedSizeArrays.jl/tree/abcf7a6f8728ec0e4445a76e4d5d5cca2b47ea48/src/array_of_fixedsize.jl#L38\" target=\"_blank\">/home/dgromov/.julia/v0.5/FixedSizeArrays/src/array_of_fixedsize.jl:38</a></li> <li> +<i>{P<:Union{Base.Dates.CompoundPeriod,Base.Dates.Period}}</i>(x::<b>Union{Base.ReshapedArray{P,N<:Any,A<:DenseArray,MI<:Tuple{Vararg{Base.MultiplicativeInverses.SignedMultiplicativeInverse{Int64},N<:Any}}},DenseArray{P,N<:Any},SubArray{P,N<:Any,A<:Union{Base.ReshapedArray{T<:Any,N<:Any,A<:DenseArray,MI<:Tuple{Vararg{Base.MultiplicativeInverses.SignedMultiplicativeInverse{Int64},N<:Any}}},DenseArray},I<:Tuple{Vararg{Union{Base.AbstractCartesianIndex,Colon,Int64,Range{Int64}},N<:Any}},L<:Any}}</b>) at <a href=\"https://github.com/JuliaLang/julia/tree/3c9d75391c72d7c32eea75ff187ce77b2d5effc8/base/dates/periods.jl#L323\" target=\"_blank\">dates/periods.jl:323</a></li> <li> +(A::<b>AbstractArray{Bool,N<:Any}</b>, x::<b>Bool</b>) at <a href=\"https://github.com/JuliaLang/julia/tree/3c9d75391c72d7c32eea75ff187ce77b2d5effc8/base/arraymath.jl#L90\" target=\"_blank\">arraymath.jl:90</a></li> <li> +(A::<b>SymTridiagonal</b>, B::<b>SymTridiagonal</b>) at <a href=\"https://github.com/JuliaLang/julia/tree/3c9d75391c72d7c32eea75ff187ce77b2d5effc8/base/linalg/tridiag.jl#L96\" target=\"_blank\">linalg/tridiag.jl:96</a></li> <li> +(A::<b>Tridiagonal</b>, B::<b>Tridiagonal</b>) at <a href=\"https://github.com/JuliaLang/julia/tree/3c9d75391c72d7c32eea75ff187ce77b2d5effc8/base/linalg/tridiag.jl#L494\" target=\"_blank\">linalg/tridiag.jl:494</a></li> <li> +(A::<b>UpperTriangular</b>, B::<b>UpperTriangular</b>) at <a href=\"https://github.com/JuliaLang/julia/tree/3c9d75391c72d7c32eea75ff187ce77b2d5effc8/base/linalg/triangular.jl#L357\" target=\"_blank\">linalg/triangular.jl:357</a></li> <li> +(A::<b>LowerTriangular</b>, B::<b>LowerTriangular</b>) at <a href=\"https://github.com/JuliaLang/julia/tree/3c9d75391c72d7c32eea75ff187ce77b2d5effc8/base/linalg/triangular.jl#L358\" target=\"_blank\">linalg/triangular.jl:358</a></li> <li> +(A::<b>UpperTriangular</b>, B::<b>Base.LinAlg.UnitUpperTriangular</b>) at <a href=\"https://github.com/JuliaLang/julia/tree/3c9d75391c72d7c32eea75ff187ce77b2d5effc8/base/linalg/triangular.jl#L359\" target=\"_blank\">linalg/triangular.jl:359</a></li> <li> +(A::<b>LowerTriangular</b>, B::<b>Base.LinAlg.UnitLowerTriangular</b>) at <a href=\"https://github.com/JuliaLang/julia/tree/3c9d75391c72d7c32eea75ff187ce77b2d5effc8/base/linalg/triangular.jl#L360\" target=\"_blank\">linalg/triangular.jl:360</a></li> <li> +(A::<b>Base.LinAlg.UnitUpperTriangular</b>, B::<b>UpperTriangular</b>) at <a href=\"https://github.com/JuliaLang/julia/tree/3c9d75391c72d7c32eea75ff187ce77b2d5effc8/base/linalg/triangular.jl#L361\" target=\"_blank\">linalg/triangular.jl:361</a></li> <li> +(A::<b>Base.LinAlg.UnitLowerTriangular</b>, B::<b>LowerTriangular</b>) at <a href=\"https://github.com/JuliaLang/julia/tree/3c9d75391c72d7c32eea75ff187ce77b2d5effc8/base/linalg/triangular.jl#L362\" target=\"_blank\">linalg/triangular.jl:362</a></li> <li> +(A::<b>Base.LinAlg.UnitUpperTriangular</b>, B::<b>Base.LinAlg.UnitUpperTriangular</b>) at <a href=\"https://github.com/JuliaLang/julia/tree/3c9d75391c72d7c32eea75ff187ce77b2d5effc8/base/linalg/triangular.jl#L363\" target=\"_blank\">linalg/triangular.jl:363</a></li> <li> +(A::<b>Base.LinAlg.UnitLowerTriangular</b>, B::<b>Base.LinAlg.UnitLowerTriangular</b>) at <a href=\"https://github.com/JuliaLang/julia/tree/3c9d75391c72d7c32eea75ff187ce77b2d5effc8/base/linalg/triangular.jl#L364\" target=\"_blank\">linalg/triangular.jl:364</a></li> <li> +(A::<b>Base.LinAlg.AbstractTriangular</b>, B::<b>Base.LinAlg.AbstractTriangular</b>) at <a href=\"https://github.com/JuliaLang/julia/tree/3c9d75391c72d7c32eea75ff187ce77b2d5effc8/base/linalg/triangular.jl#L365\" target=\"_blank\">linalg/triangular.jl:365</a></li> <li> +(Da::<b>Diagonal</b>, Db::<b>Diagonal</b>) at <a href=\"https://github.com/JuliaLang/julia/tree/3c9d75391c72d7c32eea75ff187ce77b2d5effc8/base/linalg/diagonal.jl#L110\" target=\"_blank\">linalg/diagonal.jl:110</a></li> <li> +(A::<b>Bidiagonal</b>, B::<b>Bidiagonal</b>) at <a href=\"https://github.com/JuliaLang/julia/tree/3c9d75391c72d7c32eea75ff187ce77b2d5effc8/base/linalg/bidiag.jl#L256\" target=\"_blank\">linalg/bidiag.jl:256</a></li> <li> +(UL::<b>UpperTriangular</b>, J::<b>UniformScaling</b>) at <a href=\"https://github.com/JuliaLang/julia/tree/3c9d75391c72d7c32eea75ff187ce77b2d5effc8/base/linalg/uniformscaling.jl#L55\" target=\"_blank\">linalg/uniformscaling.jl:55</a></li> <li> +(UL::<b>Base.LinAlg.UnitUpperTriangular</b>, J::<b>UniformScaling</b>) at <a href=\"https://github.com/JuliaLang/julia/tree/3c9d75391c72d7c32eea75ff187ce77b2d5effc8/base/linalg/uniformscaling.jl#L58\" target=\"_blank\">linalg/uniformscaling.jl:58</a></li> <li> +(UL::<b>LowerTriangular</b>, J::<b>UniformScaling</b>) at <a href=\"https://github.com/JuliaLang/julia/tree/3c9d75391c72d7c32eea75ff187ce77b2d5effc8/base/linalg/uniformscaling.jl#L55\" target=\"_blank\">linalg/uniformscaling.jl:55</a></li> <li> +(UL::<b>Base.LinAlg.UnitLowerTriangular</b>, J::<b>UniformScaling</b>) at <a href=\"https://github.com/JuliaLang/julia/tree/3c9d75391c72d7c32eea75ff187ce77b2d5effc8/base/linalg/uniformscaling.jl#L58\" target=\"_blank\">linalg/uniformscaling.jl:58</a></li> <li> +(A::<b>Diagonal</b>, B::<b>Bidiagonal</b>) at <a href=\"https://github.com/JuliaLang/julia/tree/3c9d75391c72d7c32eea75ff187ce77b2d5effc8/base/linalg/special.jl#L120\" target=\"_blank\">linalg/special.jl:120</a></li> <li> +(A::<b>Bidiagonal</b>, B::<b>Diagonal</b>) at <a href=\"https://github.com/JuliaLang/julia/tree/3c9d75391c72d7c32eea75ff187ce77b2d5effc8/base/linalg/special.jl#L121\" target=\"_blank\">linalg/special.jl:121</a></li> <li> +(A::<b>Diagonal</b>, B::<b>Tridiagonal</b>) at <a href=\"https://github.com/JuliaLang/julia/tree/3c9d75391c72d7c32eea75ff187ce77b2d5effc8/base/linalg/special.jl#L120\" target=\"_blank\">linalg/special.jl:120</a></li> <li> +(A::<b>Tridiagonal</b>, B::<b>Diagonal</b>) at <a href=\"https://github.com/JuliaLang/julia/tree/3c9d75391c72d7c32eea75ff187ce77b2d5effc8/base/linalg/special.jl#L121\" target=\"_blank\">linalg/special.jl:121</a></li> <li> +(A::<b>Diagonal</b>, B::<b>Array{T<:Any,2}</b>) at <a href=\"https://github.com/JuliaLang/julia/tree/3c9d75391c72d7c32eea75ff187ce77b2d5effc8/base/linalg/special.jl#L120\" target=\"_blank\">linalg/special.jl:120</a></li> <li> +(A::<b>Bidiagonal</b>, B::<b>Tridiagonal</b>) at <a href=\"https://github.com/JuliaLang/julia/tree/3c9d75391c72d7c32eea75ff187ce77b2d5effc8/base/linalg/special.jl#L120\" target=\"_blank\">linalg/special.jl:120</a></li> <li> +(A::<b>Tridiagonal</b>, B::<b>Bidiagonal</b>) at <a href=\"https://github.com/JuliaLang/julia/tree/3c9d75391c72d7c32eea75ff187ce77b2d5effc8/base/linalg/special.jl#L121\" target=\"_blank\">linalg/special.jl:121</a></li> <li> +(A::<b>Bidiagonal</b>, B::<b>Array{T<:Any,2}</b>) at <a href=\"https://github.com/JuliaLang/julia/tree/3c9d75391c72d7c32eea75ff187ce77b2d5effc8/base/linalg/special.jl#L120\" target=\"_blank\">linalg/special.jl:120</a></li> <li> +(A::<b>Tridiagonal</b>, B::<b>Array{T<:Any,2}</b>) at <a href=\"https://github.com/JuliaLang/julia/tree/3c9d75391c72d7c32eea75ff187ce77b2d5effc8/base/linalg/special.jl#L120\" target=\"_blank\">linalg/special.jl:120</a></li> <li> +(A::<b>SymTridiagonal</b>, B::<b>Tridiagonal</b>) at <a href=\"https://github.com/JuliaLang/julia/tree/3c9d75391c72d7c32eea75ff187ce77b2d5effc8/base/linalg/special.jl#L129\" target=\"_blank\">linalg/special.jl:129</a></li> <li> +(A::<b>Tridiagonal</b>, B::<b>SymTridiagonal</b>) at <a href=\"https://github.com/JuliaLang/julia/tree/3c9d75391c72d7c32eea75ff187ce77b2d5effc8/base/linalg/special.jl#L130\" target=\"_blank\">linalg/special.jl:130</a></li> <li> +(A::<b>SymTridiagonal</b>, B::<b>Array{T<:Any,2}</b>) at <a href=\"https://github.com/JuliaLang/julia/tree/3c9d75391c72d7c32eea75ff187ce77b2d5effc8/base/linalg/special.jl#L129\" target=\"_blank\">linalg/special.jl:129</a></li> <li> +(A::<b>Diagonal</b>, B::<b>SymTridiagonal</b>) at <a href=\"https://github.com/JuliaLang/julia/tree/3c9d75391c72d7c32eea75ff187ce77b2d5effc8/base/linalg/special.jl#L138\" target=\"_blank\">linalg/special.jl:138</a></li> <li> +(A::<b>SymTridiagonal</b>, B::<b>Diagonal</b>) at <a href=\"https://github.com/JuliaLang/julia/tree/3c9d75391c72d7c32eea75ff187ce77b2d5effc8/base/linalg/special.jl#L139\" target=\"_blank\">linalg/special.jl:139</a></li> <li> +(A::<b>Bidiagonal</b>, B::<b>SymTridiagonal</b>) at <a href=\"https://github.com/JuliaLang/julia/tree/3c9d75391c72d7c32eea75ff187ce77b2d5effc8/base/linalg/special.jl#L138\" target=\"_blank\">linalg/special.jl:138</a></li> <li> +(A::<b>SymTridiagonal</b>, B::<b>Bidiagonal</b>) at <a href=\"https://github.com/JuliaLang/julia/tree/3c9d75391c72d7c32eea75ff187ce77b2d5effc8/base/linalg/special.jl#L139\" target=\"_blank\">linalg/special.jl:139</a></li> <li> +(A::<b>Diagonal</b>, B::<b>UpperTriangular</b>) at <a href=\"https://github.com/JuliaLang/julia/tree/3c9d75391c72d7c32eea75ff187ce77b2d5effc8/base/linalg/special.jl#L150\" target=\"_blank\">linalg/special.jl:150</a></li> <li> +(A::<b>UpperTriangular</b>, B::<b>Diagonal</b>) at <a href=\"https://github.com/JuliaLang/julia/tree/3c9d75391c72d7c32eea75ff187ce77b2d5effc8/base/linalg/special.jl#L151\" target=\"_blank\">linalg/special.jl:151</a></li> <li> +(A::<b>Diagonal</b>, B::<b>Base.LinAlg.UnitUpperTriangular</b>) at <a href=\"https://github.com/JuliaLang/julia/tree/3c9d75391c72d7c32eea75ff187ce77b2d5effc8/base/linalg/special.jl#L150\" target=\"_blank\">linalg/special.jl:150</a></li> <li> +(A::<b>Base.LinAlg.UnitUpperTriangular</b>, B::<b>Diagonal</b>) at <a href=\"https://github.com/JuliaLang/julia/tree/3c9d75391c72d7c32eea75ff187ce77b2d5effc8/base/linalg/special.jl#L151\" target=\"_blank\">linalg/special.jl:151</a></li> <li> +(A::<b>Diagonal</b>, B::<b>LowerTriangular</b>) at <a href=\"https://github.com/JuliaLang/julia/tree/3c9d75391c72d7c32eea75ff187ce77b2d5effc8/base/linalg/special.jl#L150\" target=\"_blank\">linalg/special.jl:150</a></li> <li> +(A::<b>LowerTriangular</b>, B::<b>Diagonal</b>) at <a href=\"https://github.com/JuliaLang/julia/tree/3c9d75391c72d7c32eea75ff187ce77b2d5effc8/base/linalg/special.jl#L151\" target=\"_blank\">linalg/special.jl:151</a></li> <li> +(A::<b>Diagonal</b>, B::<b>Base.LinAlg.UnitLowerTriangular</b>) at <a href=\"https://github.com/JuliaLang/julia/tree/3c9d75391c72d7c32eea75ff187ce77b2d5effc8/base/linalg/special.jl#L150\" target=\"_blank\">linalg/special.jl:150</a></li> <li> +(A::<b>Base.LinAlg.UnitLowerTriangular</b>, B::<b>Diagonal</b>) at <a href=\"https://github.com/JuliaLang/julia/tree/3c9d75391c72d7c32eea75ff187ce77b2d5effc8/base/linalg/special.jl#L151\" target=\"_blank\">linalg/special.jl:151</a></li> <li> +(A::<b>Base.LinAlg.AbstractTriangular</b>, B::<b>SymTridiagonal</b>) at <a href=\"https://github.com/JuliaLang/julia/tree/3c9d75391c72d7c32eea75ff187ce77b2d5effc8/base/linalg/special.jl#L157\" target=\"_blank\">linalg/special.jl:157</a></li> <li> +(A::<b>SymTridiagonal</b>, B::<b>Base.LinAlg.AbstractTriangular</b>) at <a href=\"https://github.com/JuliaLang/julia/tree/3c9d75391c72d7c32eea75ff187ce77b2d5effc8/base/linalg/special.jl#L158\" target=\"_blank\">linalg/special.jl:158</a></li> <li> +(A::<b>Base.LinAlg.AbstractTriangular</b>, B::<b>Tridiagonal</b>) at <a href=\"https://github.com/JuliaLang/julia/tree/3c9d75391c72d7c32eea75ff187ce77b2d5effc8/base/linalg/special.jl#L157\" target=\"_blank\">linalg/special.jl:157</a></li> <li> +(A::<b>Tridiagonal</b>, B::<b>Base.LinAlg.AbstractTriangular</b>) at <a href=\"https://github.com/JuliaLang/julia/tree/3c9d75391c72d7c32eea75ff187ce77b2d5effc8/base/linalg/special.jl#L158\" target=\"_blank\">linalg/special.jl:158</a></li> <li> +(A::<b>Base.LinAlg.AbstractTriangular</b>, B::<b>Bidiagonal</b>) at <a href=\"https://github.com/JuliaLang/julia/tree/3c9d75391c72d7c32eea75ff187ce77b2d5effc8/base/linalg/special.jl#L157\" target=\"_blank\">linalg/special.jl:157</a></li> <li> +(A::<b>Bidiagonal</b>, B::<b>Base.LinAlg.AbstractTriangular</b>) at <a href=\"https://github.com/JuliaLang/julia/tree/3c9d75391c72d7c32eea75ff187ce77b2d5effc8/base/linalg/special.jl#L158\" target=\"_blank\">linalg/special.jl:158</a></li> <li> +(A::<b>Base.LinAlg.AbstractTriangular</b>, B::<b>Array{T<:Any,2}</b>) at <a href=\"https://github.com/JuliaLang/julia/tree/3c9d75391c72d7c32eea75ff187ce77b2d5effc8/base/linalg/special.jl#L157\" target=\"_blank\">linalg/special.jl:157</a></li> <li> +<i>{P<:Union{Base.Dates.CompoundPeriod,Base.Dates.Period}}</i>(Y::<b>Union{Base.ReshapedArray{P,N<:Any,A<:DenseArray,MI<:Tuple{Vararg{Base.MultiplicativeInverses.SignedMultiplicativeInverse{Int64},N<:Any}}},DenseArray{P,N<:Any},SubArray{P,N<:Any,A<:Union{Base.ReshapedArray{T<:Any,N<:Any,A<:DenseArray,MI<:Tuple{Vararg{Base.MultiplicativeInverses.SignedMultiplicativeInverse{Int64},N<:Any}}},DenseArray},I<:Tuple{Vararg{Union{Base.AbstractCartesianIndex,Colon,Int64,Range{Int64}},N<:Any}},L<:Any}}</b>, x::<b>Union{Base.Dates.CompoundPeriod,Base.Dates.Period}</b>) at <a href=\"https://github.com/JuliaLang/julia/tree/3c9d75391c72d7c32eea75ff187ce77b2d5effc8/base/dates/periods.jl#L337\" target=\"_blank\">dates/periods.jl:337</a></li> <li> +<i>{P<:Union{Base.Dates.CompoundPeriod,Base.Dates.Period},Q<:Union{Base.Dates.CompoundPeriod,Base.Dates.Period}}</i>(X::<b>Union{Base.ReshapedArray{P,N<:Any,A<:DenseArray,MI<:Tuple{Vararg{Base.MultiplicativeInverses.SignedMultiplicativeInverse{Int64},N<:Any}}},DenseArray{P,N<:Any},SubArray{P,N<:Any,A<:Union{Base.ReshapedArray{T<:Any,N<:Any,A<:DenseArray,MI<:Tuple{Vararg{Base.MultiplicativeInverses.SignedMultiplicativeInverse{Int64},N<:Any}}},DenseArray},I<:Tuple{Vararg{Union{Base.AbstractCartesianIndex,Colon,Int64,Range{Int64}},N<:Any}},L<:Any}}</b>, Y::<b>Union{Base.ReshapedArray{Q,N<:Any,A<:DenseArray,MI<:Tuple{Vararg{Base.MultiplicativeInverses.SignedMultiplicativeInverse{Int64},N<:Any}}},DenseArray{Q,N<:Any},SubArray{Q,N<:Any,A<:Union{Base.ReshapedArray{T<:Any,N<:Any,A<:DenseArray,MI<:Tuple{Vararg{Base.MultiplicativeInverses.SignedMultiplicativeInverse{Int64},N<:Any}}},DenseArray},I<:Tuple{Vararg{Union{Base.AbstractCartesianIndex,Colon,Int64,Range{Int64}},N<:Any}},L<:Any}}</b>) at <a href=\"https://github.com/JuliaLang/julia/tree/3c9d75391c72d7c32eea75ff187ce77b2d5effc8/base/dates/periods.jl#L338\" target=\"_blank\">dates/periods.jl:338</a></li> <li> +<i>{T<:Base.Dates.TimeType,P<:Union{Base.Dates.CompoundPeriod,Base.Dates.Period}}</i>(x::<b>Union{Base.ReshapedArray{P,N<:Any,A<:DenseArray,MI<:Tuple{Vararg{Base.MultiplicativeInverses.SignedMultiplicativeInverse{Int64},N<:Any}}},DenseArray{P,N<:Any},SubArray{P,N<:Any,A<:Union{Base.ReshapedArray{T<:Any,N<:Any,A<:DenseArray,MI<:Tuple{Vararg{Base.MultiplicativeInverses.SignedMultiplicativeInverse{Int64},N<:Any}}},DenseArray},I<:Tuple{Vararg{Union{Base.AbstractCartesianIndex,Colon,Int64,Range{Int64}},N<:Any}},L<:Any}}</b>, y::<b>T</b>) at <a href=\"https://github.com/JuliaLang/julia/tree/3c9d75391c72d7c32eea75ff187ce77b2d5effc8/base/dates/arithmetic.jl#L83\" target=\"_blank\">dates/arithmetic.jl:83</a></li> <li> +<i>{T<:Base.Dates.TimeType}</i>(r::<b>Range{T}</b>, x::<b>Base.Dates.Period</b>) at <a href=\"https://github.com/JuliaLang/julia/tree/3c9d75391c72d7c32eea75ff187ce77b2d5effc8/base/dates/ranges.jl#L39\" target=\"_blank\">dates/ranges.jl:39</a></li> <li> +<i>{Tv1,Ti1,Tv2,Ti2}</i>(A_1::<b>SparseMatrixCSC{Tv1,Ti1}</b>, A_2::<b>SparseMatrixCSC{Tv2,Ti2}</b>) at <a href=\"https://github.com/JuliaLang/julia/tree/3c9d75391c72d7c32eea75ff187ce77b2d5effc8/base/sparse/sparsematrix.jl#L1697\" target=\"_blank\">sparse/sparsematrix.jl:1697</a></li> <li> +(A::<b>SparseMatrixCSC</b>, B::<b>Array</b>) at <a href=\"https://github.com/JuliaLang/julia/tree/3c9d75391c72d7c32eea75ff187ce77b2d5effc8/base/sparse/sparsematrix.jl#L1709\" target=\"_blank\">sparse/sparsematrix.jl:1709</a></li> <li> +(A::<b>SparseMatrixCSC</b>, J::<b>UniformScaling</b>) at <a href=\"https://github.com/JuliaLang/julia/tree/3c9d75391c72d7c32eea75ff187ce77b2d5effc8/base/sparse/sparsematrix.jl#L3811\" target=\"_blank\">sparse/sparsematrix.jl:3811</a></li> <li> +(x::<b>AbstractSparseArray{Tv<:Any,Ti<:Any,1}</b>, y::<b>AbstractSparseArray{Tv<:Any,Ti<:Any,1}</b>) at <a href=\"https://github.com/JuliaLang/julia/tree/3c9d75391c72d7c32eea75ff187ce77b2d5effc8/base/sparse/sparsevector.jl#L1179\" target=\"_blank\">sparse/sparsevector.jl:1179</a></li> <li> +(x::<b>Union{Base.ReshapedArray{T<:Any,1,A<:DenseArray,MI<:Tuple{Vararg{Base.MultiplicativeInverses.SignedMultiplicativeInverse{Int64},N<:Any}}},DenseArray{T<:Any,1},SubArray{T<:Any,1,A<:Union{Base.ReshapedArray{T<:Any,N<:Any,A<:DenseArray,MI<:Tuple{Vararg{Base.MultiplicativeInverses.SignedMultiplicativeInverse{Int64},N<:Any}}},DenseArray},I<:Tuple{Vararg{Union{Base.AbstractCartesianIndex,Colon,Int64,Range{Int64}},N<:Any}},L<:Any}}</b>, y::<b>AbstractSparseArray{Tv<:Any,Ti<:Any,1}</b>) at <a href=\"https://github.com/JuliaLang/julia/tree/3c9d75391c72d7c32eea75ff187ce77b2d5effc8/base/sparse/sparsevector.jl#L1180\" target=\"_blank\">sparse/sparsevector.jl:1180</a></li> <li> +(x::<b>AbstractSparseArray{Tv<:Any,Ti<:Any,1}</b>, y::<b>Union{Base.ReshapedArray{T<:Any,1,A<:DenseArray,MI<:Tuple{Vararg{Base.MultiplicativeInverses.SignedMultiplicativeInverse{Int64},N<:Any}}},DenseArray{T<:Any,1},SubArray{T<:Any,1,A<:Union{Base.ReshapedArray{T<:Any,N<:Any,A<:DenseArray,MI<:Tuple{Vararg{Base.MultiplicativeInverses.SignedMultiplicativeInverse{Int64},N<:Any}}},DenseArray},I<:Tuple{Vararg{Union{Base.AbstractCartesianIndex,Colon,Int64,Range{Int64}},N<:Any}},L<:Any}}</b>) at <a href=\"https://github.com/JuliaLang/julia/tree/3c9d75391c72d7c32eea75ff187ce77b2d5effc8/base/sparse/sparsevector.jl#L1181\" target=\"_blank\">sparse/sparsevector.jl:1181</a></li> <li> +<i>{T<:Number}</i>(x::<b>AbstractArray{T,N<:Any}</b>) at <a href=\"https://github.com/JuliaLang/julia/tree/3c9d75391c72d7c32eea75ff187ce77b2d5effc8/base/abstractarraymath.jl#L91\" target=\"_blank\">abstractarraymath.jl:91</a></li> <li> +<i>{R,S}</i>(A::<b>AbstractArray{R,N<:Any}</b>, B::<b>AbstractArray{S,N<:Any}</b>) at <a href=\"https://github.com/JuliaLang/julia/tree/3c9d75391c72d7c32eea75ff187ce77b2d5effc8/base/arraymath.jl#L49\" target=\"_blank\">arraymath.jl:49</a></li> <li> +(A::<b>AbstractArray</b>, x::<b>Number</b>) at <a href=\"https://github.com/JuliaLang/julia/tree/3c9d75391c72d7c32eea75ff187ce77b2d5effc8/base/arraymath.jl#L94\" target=\"_blank\">arraymath.jl:94</a></li> <li> +(x::<b>Number</b>, A::<b>AbstractArray</b>) at <a href=\"https://github.com/JuliaLang/julia/tree/3c9d75391c72d7c32eea75ff187ce77b2d5effc8/base/arraymath.jl#L95\" target=\"_blank\">arraymath.jl:95</a></li> <li> +<i>{N}</i>(index1::<b>CartesianIndex{N}</b>, index2::<b>CartesianIndex{N}</b>) at <a href=\"https://github.com/JuliaLang/julia/tree/3c9d75391c72d7c32eea75ff187ce77b2d5effc8/base/multidimensional.jl#L52\" target=\"_blank\">multidimensional.jl:52</a></li> <li> +<i>{N}</i>(index::<b>CartesianIndex{N}</b>, i::<b>Integer</b>) at <a href=\"https://github.com/JuliaLang/julia/tree/3c9d75391c72d7c32eea75ff187ce77b2d5effc8/base/multidimensional.jl#L57\" target=\"_blank\">multidimensional.jl:57</a></li> <li> +(J1::<b>UniformScaling</b>, J2::<b>UniformScaling</b>) at <a href=\"https://github.com/JuliaLang/julia/tree/3c9d75391c72d7c32eea75ff187ce77b2d5effc8/base/linalg/uniformscaling.jl#L37\" target=\"_blank\">linalg/uniformscaling.jl:37</a></li> <li> +(J::<b>UniformScaling</b>, B::<b>BitArray{2}</b>) at <a href=\"https://github.com/JuliaLang/julia/tree/3c9d75391c72d7c32eea75ff187ce77b2d5effc8/base/linalg/uniformscaling.jl#L39\" target=\"_blank\">linalg/uniformscaling.jl:39</a></li> <li> +(J::<b>UniformScaling</b>, A::<b>AbstractArray{T<:Any,2}</b>) at <a href=\"https://github.com/JuliaLang/julia/tree/3c9d75391c72d7c32eea75ff187ce77b2d5effc8/base/linalg/uniformscaling.jl#L40\" target=\"_blank\">linalg/uniformscaling.jl:40</a></li> <li> +(J::<b>UniformScaling</b>, x::<b>Number</b>) at <a href=\"https://github.com/JuliaLang/julia/tree/3c9d75391c72d7c32eea75ff187ce77b2d5effc8/base/linalg/uniformscaling.jl#L41\" target=\"_blank\">linalg/uniformscaling.jl:41</a></li> <li> +(x::<b>Number</b>, J::<b>UniformScaling</b>) at <a href=\"https://github.com/JuliaLang/julia/tree/3c9d75391c72d7c32eea75ff187ce77b2d5effc8/base/linalg/uniformscaling.jl#L42\" target=\"_blank\">linalg/uniformscaling.jl:42</a></li> <li> +<i>{TA,TJ}</i>(A::<b>AbstractArray{TA,2}</b>, J::<b>UniformScaling{TJ}</b>) at <a href=\"https://github.com/JuliaLang/julia/tree/3c9d75391c72d7c32eea75ff187ce77b2d5effc8/base/linalg/uniformscaling.jl#L102\" target=\"_blank\">linalg/uniformscaling.jl:102</a></li> <li> +<i>{T}</i>(a::<b>Base.Pkg.Resolve.VersionWeights.HierarchicalValue{T}</b>, b::<b>Base.Pkg.Resolve.VersionWeights.HierarchicalValue{T}</b>) at <a href=\"https://github.com/JuliaLang/julia/tree/3c9d75391c72d7c32eea75ff187ce77b2d5effc8/base/pkg/resolve/versionweight.jl#L23\" target=\"_blank\">pkg/resolve/versionweight.jl:23</a></li> <li> +<i>{P<:Base.Dates.Period}</i>(x::<b>P</b>, y::<b>P</b>) at <a href=\"https://github.com/JuliaLang/julia/tree/3c9d75391c72d7c32eea75ff187ce77b2d5effc8/base/dates/periods.jl#L70\" target=\"_blank\">dates/periods.jl:70</a></li> <li> +(x::<b>Base.Dates.Period</b>, y::<b>Base.Dates.Period</b>) at <a href=\"https://github.com/JuliaLang/julia/tree/3c9d75391c72d7c32eea75ff187ce77b2d5effc8/base/dates/periods.jl#L311\" target=\"_blank\">dates/periods.jl:311</a></li> <li> +(y::<b>Base.Dates.Period</b>, x::<b>Base.Dates.CompoundPeriod</b>) at <a href=\"https://github.com/JuliaLang/julia/tree/3c9d75391c72d7c32eea75ff187ce77b2d5effc8/base/dates/periods.jl#L313\" target=\"_blank\">dates/periods.jl:313</a></li> <li> +(y::<b>Base.Dates.Period</b>, x::<b>Base.Dates.TimeType</b>) at <a href=\"https://github.com/JuliaLang/julia/tree/3c9d75391c72d7c32eea75ff187ce77b2d5effc8/base/dates/arithmetic.jl#L66\" target=\"_blank\">dates/arithmetic.jl:66</a></li> <li> +<i>{T<:Base.Dates.TimeType}</i>(x::<b>Base.Dates.Period</b>, r::<b>Range{T}</b>) at <a href=\"https://github.com/JuliaLang/julia/tree/3c9d75391c72d7c32eea75ff187ce77b2d5effc8/base/dates/ranges.jl#L40\" target=\"_blank\">dates/ranges.jl:40</a></li> <li> +(x::<b>Union{Base.Dates.CompoundPeriod,Base.Dates.Period}</b>) at <a href=\"https://github.com/JuliaLang/julia/tree/3c9d75391c72d7c32eea75ff187ce77b2d5effc8/base/dates/periods.jl#L322\" target=\"_blank\">dates/periods.jl:322</a></li> <li> +<i>{P<:Union{Base.Dates.CompoundPeriod,Base.Dates.Period}}</i>(x::<b>Union{Base.Dates.CompoundPeriod,Base.Dates.Period}</b>, Y::<b>Union{Base.ReshapedArray{P,N<:Any,A<:DenseArray,MI<:Tuple{Vararg{Base.MultiplicativeInverses.SignedMultiplicativeInverse{Int64},N<:Any}}},DenseArray{P,N<:Any},SubArray{P,N<:Any,A<:Union{Base.ReshapedArray{T<:Any,N<:Any,A<:DenseArray,MI<:Tuple{Vararg{Base.MultiplicativeInverses.SignedMultiplicativeInverse{Int64},N<:Any}}},DenseArray},I<:Tuple{Vararg{Union{Base.AbstractCartesianIndex,Colon,Int64,Range{Int64}},N<:Any}},L<:Any}}</b>) at <a href=\"https://github.com/JuliaLang/julia/tree/3c9d75391c72d7c32eea75ff187ce77b2d5effc8/base/dates/periods.jl#L336\" target=\"_blank\">dates/periods.jl:336</a></li> <li> +(x::<b>Base.Dates.TimeType</b>) at <a href=\"https://github.com/JuliaLang/julia/tree/3c9d75391c72d7c32eea75ff187ce77b2d5effc8/base/dates/arithmetic.jl#L8\" target=\"_blank\">dates/arithmetic.jl:8</a></li> <li> +(a::<b>Base.Dates.TimeType</b>, b::<b>Base.Dates.Period</b>, c::<b>Base.Dates.Period</b>) at <a href=\"https://github.com/JuliaLang/julia/tree/3c9d75391c72d7c32eea75ff187ce77b2d5effc8/base/dates/periods.jl#L348\" target=\"_blank\">dates/periods.jl:348</a></li> <li> +(a::<b>Base.Dates.TimeType</b>, b::<b>Base.Dates.Period</b>, c::<b>Base.Dates.Period</b>, d::<b>Base.Dates.Period...</b>) at <a href=\"https://github.com/JuliaLang/julia/tree/3c9d75391c72d7c32eea75ff187ce77b2d5effc8/base/dates/periods.jl#L350\" target=\"_blank\">dates/periods.jl:350</a></li> <li> +(x::<b>Base.Dates.TimeType</b>, y::<b>Base.Dates.CompoundPeriod</b>) at <a href=\"https://github.com/JuliaLang/julia/tree/3c9d75391c72d7c32eea75ff187ce77b2d5effc8/base/dates/periods.jl#L354\" target=\"_blank\">dates/periods.jl:354</a></li> <li> +(x::<b>Base.Dates.Instant</b>) at <a href=\"https://github.com/JuliaLang/julia/tree/3c9d75391c72d7c32eea75ff187ce77b2d5effc8/base/dates/arithmetic.jl#L4\" target=\"_blank\">dates/arithmetic.jl:4</a></li> <li> +<i>{T<:Base.Dates.TimeType}</i>(x::<b>AbstractArray{T,N<:Any}</b>, y::<b>Union{Base.Dates.CompoundPeriod,Base.Dates.Period}</b>) at <a href=\"https://github.com/JuliaLang/julia/tree/3c9d75391c72d7c32eea75ff187ce77b2d5effc8/base/dates/arithmetic.jl#L76\" target=\"_blank\">dates/arithmetic.jl:76</a></li> <li> +<i>{T<:Base.Dates.TimeType}</i>(y::<b>Union{Base.Dates.CompoundPeriod,Base.Dates.Period}</b>, x::<b>AbstractArray{T,N<:Any}</b>) at <a href=\"https://github.com/JuliaLang/julia/tree/3c9d75391c72d7c32eea75ff187ce77b2d5effc8/base/dates/arithmetic.jl#L77\" target=\"_blank\">dates/arithmetic.jl:77</a></li> <li> +<i>{P<:Union{Base.Dates.CompoundPeriod,Base.Dates.Period}}</i>(y::<b>Base.Dates.TimeType</b>, x::<b>Union{Base.ReshapedArray{P,N<:Any,A<:DenseArray,MI<:Tuple{Vararg{Base.MultiplicativeInverses.SignedMultiplicativeInverse{Int64},N<:Any}}},DenseArray{P,N<:Any},SubArray{P,N<:Any,A<:Union{Base.ReshapedArray{T<:Any,N<:Any,A<:DenseArray,MI<:Tuple{Vararg{Base.MultiplicativeInverses.SignedMultiplicativeInverse{Int64},N<:Any}}},DenseArray},I<:Tuple{Vararg{Union{Base.AbstractCartesianIndex,Colon,Int64,Range{Int64}},N<:Any}},L<:Any}}</b>) at <a href=\"https://github.com/JuliaLang/julia/tree/3c9d75391c72d7c32eea75ff187ce77b2d5effc8/base/dates/arithmetic.jl#L84\" target=\"_blank\">dates/arithmetic.jl:84</a></li> <li> +<i>{F1<:FixedSizeArrays.FixedArray{T,NDim,SIZE},F2<:FixedSizeArrays.FixedArray{T,NDim,SIZE}}</i>(x::<b>F1</b>, y::<b>F2</b>) at <a href=\"https://github.com/SimonDanisch/FixedSizeArrays.jl/tree/abcf7a6f8728ec0e4445a76e4d5d5cca2b47ea48/src/ops.jl#L81\" target=\"_blank\">/home/dgromov/.julia/v0.5/FixedSizeArrays/src/ops.jl:81</a></li> <li> +<i>{F<:FixedSizeArrays.FixedArray{T,NDim,SIZE}}</i>(x::<b>F</b>, y::<b>Number</b>) at <a href=\"https://github.com/SimonDanisch/FixedSizeArrays.jl/tree/abcf7a6f8728ec0e4445a76e4d5d5cca2b47ea48/src/ops.jl#L82\" target=\"_blank\">/home/dgromov/.julia/v0.5/FixedSizeArrays/src/ops.jl:82</a></li> <li> +<i>{F<:FixedSizeArrays.FixedArray{T,NDim,SIZE}}</i>(x::<b>Number</b>, y::<b>F</b>) at <a href=\"https://github.com/SimonDanisch/FixedSizeArrays.jl/tree/abcf7a6f8728ec0e4445a76e4d5d5cca2b47ea48/src/ops.jl#L83\" target=\"_blank\">/home/dgromov/.julia/v0.5/FixedSizeArrays/src/ops.jl:83</a></li> <li> +<i>{T,N}</i>(x::<b>FixedSizeArrays.FixedArray{T,N,SIZE<:Any}</b>, y::<b>AbstractArray{T,N}</b>) at <a href=\"https://github.com/SimonDanisch/FixedSizeArrays.jl/tree/abcf7a6f8728ec0e4445a76e4d5d5cca2b47ea48/src/ops.jl#L84\" target=\"_blank\">/home/dgromov/.julia/v0.5/FixedSizeArrays/src/ops.jl:84</a></li> <li> +<i>{T,N}</i>(x::<b>AbstractArray{T,N}</b>, y::<b>FixedSizeArrays.FixedArray{T,N,SIZE<:Any}</b>) at <a href=\"https://github.com/SimonDanisch/FixedSizeArrays.jl/tree/abcf7a6f8728ec0e4445a76e4d5d5cca2b47ea48/src/ops.jl#L85\" target=\"_blank\">/home/dgromov/.julia/v0.5/FixedSizeArrays/src/ops.jl:85</a></li> <li> +<i>{m,n,T}</i>(A::<b>FixedSizeArrays.Mat{m,n,T}</b>, J::<b>UniformScaling</b>) at <a href=\"https://github.com/SimonDanisch/FixedSizeArrays.jl/tree/abcf7a6f8728ec0e4445a76e4d5d5cca2b47ea48/src/ops.jl#L380\" target=\"_blank\">/home/dgromov/.julia/v0.5/FixedSizeArrays/src/ops.jl:380</a></li> <li> +<i>{m,n,T}</i>(J::<b>UniformScaling</b>, A::<b>FixedSizeArrays.Mat{m,n,T}</b>) at <a href=\"https://github.com/SimonDanisch/FixedSizeArrays.jl/tree/abcf7a6f8728ec0e4445a76e4d5d5cca2b47ea48/src/ops.jl#L381\" target=\"_blank\">/home/dgromov/.julia/v0.5/FixedSizeArrays/src/ops.jl:381</a></li> <li> +<i>{C<:Union{ColorTypes.LMS{T<:AbstractFloat},ColorTypes.XYZ{T<:AbstractFloat}}}</i>(a::<b>C</b>, b::<b>C</b>) at <a href=\"https://github.com/JuliaGraphics/Colors.jl/tree/e5fe33a2c75dc32a462511557420e6145df1bb7e/src/algorithms.jl#L4\" target=\"_blank\">/home/dgromov/.julia/v0.5/Colors/src/algorithms.jl:4</a></li> <li> +<i>{u}</i>(a::<b>Measures.Length{u,T<:Any}</b>, b::<b>Measures.Length{u,T<:Any}</b>) at <a href=\"https://github.com/dcjones/Measures.jl/tree/82bde724e6937c7f8f9d2c3c281f140bf8ff2772/src/length.jl#L32\" target=\"_blank\">/home/dgromov/.julia/v0.5/Measures/src/length.jl:32</a></li> <li> +(a::<b>Measures.Measure</b>, b::<b>Measures.Measure</b>) at <a href=\"https://github.com/dcjones/Measures.jl/tree/82bde724e6937c7f8f9d2c3c281f140bf8ff2772/src/operations.jl#L41\" target=\"_blank\">/home/dgromov/.julia/v0.5/Measures/src/operations.jl:41</a></li> <li> +<i>{N}</i>(a::<b>Tuple{Vararg{Measures.Measure,N}}</b>, b::<b>Tuple{Vararg{Measures.Measure,N}}</b>) at <a href=\"https://github.com/dcjones/Measures.jl/tree/82bde724e6937c7f8f9d2c3c281f140bf8ff2772/src/point.jl#L34\" target=\"_blank\">/home/dgromov/.julia/v0.5/Measures/src/point.jl:34</a></li> <li> +(a::<b>Tuple{Vararg{Measures.Measure,N<:Any}}</b>, b::<b>Tuple{Vararg{Measures.Measure,N<:Any}}</b>) at <a href=\"https://github.com/dcjones/Measures.jl/tree/82bde724e6937c7f8f9d2c3c281f140bf8ff2772/src/point.jl#L26\" target=\"_blank\">/home/dgromov/.julia/v0.5/Measures/src/point.jl:26</a></li> <li> +(bb1::<b>Measures.BoundingBox</b>, bb2::<b>Measures.BoundingBox</b>) at <a href=\"https://github.com/tbreloff/Plots.jl/tree/c092d3cab48d784dc75e999efb5090bf00057c92/src/layouts.jl#L53\" target=\"_blank\">/home/dgromov/.julia/v0.5/Plots/src/layouts.jl:53</a></li> <li> +(a, b, c, xs...) at <a href=\"https://github.com/JuliaLang/julia/tree/3c9d75391c72d7c32eea75ff187ce77b2d5effc8/base/operators.jl#L138\" target=\"_blank\">operators.jl:138</a></li> </ul>"
      ],
      "text/plain": [
       "# 179 methods for generic function \"+\":\n",
       "+(x::Bool, z::Complex{Bool}) at complex.jl:136\n",
       "+(x::Bool, y::Bool) at bool.jl:48\n",
       "+(x::Bool) at bool.jl:45\n",
       "+{T<:AbstractFloat}(x::Bool, y::T) at bool.jl:55\n",
       "+(x::Bool, z::Complex) at complex.jl:143\n",
       "+(x::Bool, A::AbstractArray{Bool,N<:Any}) at arraymath.jl:91\n",
       "+(x::Float32, y::Float32) at float.jl:239\n",
       "+(x::Float64, y::Float64) at float.jl:240\n",
       "+(z::Complex{Bool}, x::Bool) at complex.jl:137\n",
       "+(z::Complex{Bool}, x::Real) at complex.jl:151\n",
       "+(a::Float16, b::Float16) at float16.jl:136\n",
       "+(x::Char, y::Integer) at char.jl:40\n",
       "+(c::BigInt, x::BigFloat) at mpfr.jl:240\n",
       "+(a::BigInt, b::BigInt, c::BigInt, d::BigInt, e::BigInt) at gmp.jl:298\n",
       "+(a::BigInt, b::BigInt, c::BigInt, d::BigInt) at gmp.jl:291\n",
       "+(a::BigInt, b::BigInt, c::BigInt) at gmp.jl:285\n",
       "+(x::BigInt, y::BigInt) at gmp.jl:255\n",
       "+(x::BigInt, c::Union{UInt16,UInt32,UInt64,UInt8}) at gmp.jl:310\n",
       "+(x::BigInt, c::Union{Int16,Int32,Int64,Int8}) at gmp.jl:326\n",
       "+(a::BigFloat, b::BigFloat, c::BigFloat, d::BigFloat, e::BigFloat) at mpfr.jl:388\n",
       "+(a::BigFloat, b::BigFloat, c::BigFloat, d::BigFloat) at mpfr.jl:381\n",
       "+(a::BigFloat, b::BigFloat, c::BigFloat) at mpfr.jl:375\n",
       "+(x::BigFloat, c::BigInt) at mpfr.jl:236\n",
       "+(x::BigFloat, y::BigFloat) at mpfr.jl:205\n",
       "+(x::BigFloat, c::Union{UInt16,UInt32,UInt64,UInt8}) at mpfr.jl:212\n",
       "+(x::BigFloat, c::Union{Int16,Int32,Int64,Int8}) at mpfr.jl:220\n",
       "+(x::BigFloat, c::Union{Float16,Float32,Float64}) at mpfr.jl:228\n",
       "+{T}(B::BitArray{2}, J::UniformScaling{T}) at linalg/uniformscaling.jl:38\n",
       "+(a::Base.Pkg.Resolve.VersionWeights.VWPreBuildItem, b::Base.Pkg.Resolve.VersionWeights.VWPreBuildItem) at pkg/resolve/versionweight.jl:85\n",
       "+(a::Base.Pkg.Resolve.VersionWeights.VWPreBuild, b::Base.Pkg.Resolve.VersionWeights.VWPreBuild) at pkg/resolve/versionweight.jl:131\n",
       "+(a::Base.Pkg.Resolve.VersionWeights.VersionWeight, b::Base.Pkg.Resolve.VersionWeights.VersionWeight) at pkg/resolve/versionweight.jl:185\n",
       "+(a::Base.Pkg.Resolve.MaxSum.FieldValues.FieldValue, b::Base.Pkg.Resolve.MaxSum.FieldValues.FieldValue) at pkg/resolve/fieldvalue.jl:44\n",
       "+(x::Base.Dates.CompoundPeriod, y::Base.Dates.CompoundPeriod) at dates/periods.jl:314\n",
       "+(x::Base.Dates.CompoundPeriod, y::Base.Dates.Period) at dates/periods.jl:312\n",
       "+(x::Base.Dates.CompoundPeriod, y::Base.Dates.TimeType) at dates/periods.jl:359\n",
       "+(dt::DateTime, z::Base.Dates.Month) at dates/arithmetic.jl:37\n",
       "+(dt::DateTime, y::Base.Dates.Year) at dates/arithmetic.jl:13\n",
       "+(x::DateTime, y::Base.Dates.Period) at dates/arithmetic.jl:64\n",
       "+(x::Date, y::Base.Dates.Day) at dates/arithmetic.jl:62\n",
       "+(x::Date, y::Base.Dates.Week) at dates/arithmetic.jl:60\n",
       "+(dt::Date, z::Base.Dates.Month) at dates/arithmetic.jl:43\n",
       "+(dt::Date, y::Base.Dates.Year) at dates/arithmetic.jl:17\n",
       "+(y::AbstractFloat, x::Bool) at bool.jl:57\n",
       "+{T<:Union{Int128,Int16,Int32,Int64,Int8,UInt128,UInt16,UInt32,UInt64,UInt8}}(x::T, y::T) at int.jl:32\n",
       "+(x::Integer, y::Ptr) at pointer.jl:108\n",
       "+(z::Complex, w::Complex) at complex.jl:125\n",
       "+(z::Complex, x::Bool) at complex.jl:144\n",
       "+(x::Real, z::Complex{Bool}) at complex.jl:150\n",
       "+(x::Real, z::Complex) at complex.jl:162\n",
       "+(z::Complex, x::Real) at complex.jl:163\n",
       "+(x::Rational, y::Rational) at rational.jl:199\n",
       "+(x::Integer, y::Char) at char.jl:41\n",
       "+{N}(i::Integer, index::CartesianIndex{N}) at multidimensional.jl:58\n",
       "+(c::Union{UInt16,UInt32,UInt64,UInt8}, x::BigInt) at gmp.jl:314\n",
       "+(c::Union{Int16,Int32,Int64,Int8}, x::BigInt) at gmp.jl:327\n",
       "+(c::Union{UInt16,UInt32,UInt64,UInt8}, x::BigFloat) at mpfr.jl:216\n",
       "+(c::Union{Int16,Int32,Int64,Int8}, x::BigFloat) at mpfr.jl:224\n",
       "+(c::Union{Float16,Float32,Float64}, x::BigFloat) at mpfr.jl:232\n",
       "+(x::Irrational, y::Irrational) at irrationals.jl:88\n",
       "+{T,f}(x::FixedPointNumbers.Fixed{T,f}, y::FixedPointNumbers.Fixed{T,f}) at /home/dgromov/.julia/v0.5/FixedPointNumbers/src/fixed.jl:22\n",
       "+{T,f}(x::FixedPointNumbers.UFixed{T,f}, y::FixedPointNumbers.UFixed{T,f}) at /home/dgromov/.julia/v0.5/FixedPointNumbers/src/ufixed.jl:88\n",
       "+(x::Number) at operators.jl:115\n",
       "+{T<:Number}(x::T, y::T) at promotion.jl:255\n",
       "+(x::Number, y::Number) at promotion.jl:190\n",
       "+(r1::OrdinalRange, r2::OrdinalRange) at operators.jl:505\n",
       "+{T<:AbstractFloat}(r1::FloatRange{T}, r2::FloatRange{T}) at operators.jl:512\n",
       "+{T<:AbstractFloat}(r1::LinSpace{T}, r2::LinSpace{T}) at operators.jl:531\n",
       "+(r1::Union{FloatRange,LinSpace,OrdinalRange}, r2::Union{FloatRange,LinSpace,OrdinalRange}) at operators.jl:544\n",
       "+(x::Ptr, y::Integer) at pointer.jl:106\n",
       "+(A::BitArray, B::BitArray) at bitarray.jl:1042\n",
       "+(A::Array{T<:Any,2}, B::Diagonal) at linalg/special.jl:121\n",
       "+(A::Array{T<:Any,2}, B::Bidiagonal) at linalg/special.jl:121\n",
       "+(A::Array{T<:Any,2}, B::Tridiagonal) at linalg/special.jl:121\n",
       "+(A::Array{T<:Any,2}, B::SymTridiagonal) at linalg/special.jl:130\n",
       "+(A::Array{T<:Any,2}, B::Base.LinAlg.AbstractTriangular) at linalg/special.jl:158\n",
       "+(A::Array, B::SparseMatrixCSC) at sparse/sparsematrix.jl:1711\n",
       "+{T<:FixedSizeArrays.FixedArray{T,NDim,SIZE},ND}(a::Array{T,ND}, x::T) at /home/dgromov/.julia/v0.5/FixedSizeArrays/src/array_of_fixedsize.jl:38\n",
       "+{P<:Union{Base.Dates.CompoundPeriod,Base.Dates.Period}}(x::Union{Base.ReshapedArray{P,N<:Any,A<:DenseArray,MI<:Tuple{Vararg{Base.MultiplicativeInverses.SignedMultiplicativeInverse{Int64},N<:Any}}},DenseArray{P,N<:Any},SubArray{P,N<:Any,A<:Union{Base.ReshapedArray{T<:Any,N<:Any,A<:DenseArray,MI<:Tuple{Vararg{Base.MultiplicativeInverses.SignedMultiplicativeInverse{Int64},N<:Any}}},DenseArray},I<:Tuple{Vararg{Union{Base.AbstractCartesianIndex,Colon,Int64,Range{Int64}},N<:Any}},L<:Any}}) at dates/periods.jl:323\n",
       "+(A::AbstractArray{Bool,N<:Any}, x::Bool) at arraymath.jl:90\n",
       "+(A::SymTridiagonal, B::SymTridiagonal) at linalg/tridiag.jl:96\n",
       "+(A::Tridiagonal, B::Tridiagonal) at linalg/tridiag.jl:494\n",
       "+(A::UpperTriangular, B::UpperTriangular) at linalg/triangular.jl:357\n",
       "+(A::LowerTriangular, B::LowerTriangular) at linalg/triangular.jl:358\n",
       "+(A::UpperTriangular, B::Base.LinAlg.UnitUpperTriangular) at linalg/triangular.jl:359\n",
       "+(A::LowerTriangular, B::Base.LinAlg.UnitLowerTriangular) at linalg/triangular.jl:360\n",
       "+(A::Base.LinAlg.UnitUpperTriangular, B::UpperTriangular) at linalg/triangular.jl:361\n",
       "+(A::Base.LinAlg.UnitLowerTriangular, B::LowerTriangular) at linalg/triangular.jl:362\n",
       "+(A::Base.LinAlg.UnitUpperTriangular, B::Base.LinAlg.UnitUpperTriangular) at linalg/triangular.jl:363\n",
       "+(A::Base.LinAlg.UnitLowerTriangular, B::Base.LinAlg.UnitLowerTriangular) at linalg/triangular.jl:364\n",
       "+(A::Base.LinAlg.AbstractTriangular, B::Base.LinAlg.AbstractTriangular) at linalg/triangular.jl:365\n",
       "+(Da::Diagonal, Db::Diagonal) at linalg/diagonal.jl:110\n",
       "+(A::Bidiagonal, B::Bidiagonal) at linalg/bidiag.jl:256\n",
       "+(UL::UpperTriangular, J::UniformScaling) at linalg/uniformscaling.jl:55\n",
       "+(UL::Base.LinAlg.UnitUpperTriangular, J::UniformScaling) at linalg/uniformscaling.jl:58\n",
       "+(UL::LowerTriangular, J::UniformScaling) at linalg/uniformscaling.jl:55\n",
       "+(UL::Base.LinAlg.UnitLowerTriangular, J::UniformScaling) at linalg/uniformscaling.jl:58\n",
       "+(A::Diagonal, B::Bidiagonal) at linalg/special.jl:120\n",
       "+(A::Bidiagonal, B::Diagonal) at linalg/special.jl:121\n",
       "+(A::Diagonal, B::Tridiagonal) at linalg/special.jl:120\n",
       "+(A::Tridiagonal, B::Diagonal) at linalg/special.jl:121\n",
       "+(A::Diagonal, B::Array{T<:Any,2}) at linalg/special.jl:120\n",
       "+(A::Bidiagonal, B::Tridiagonal) at linalg/special.jl:120\n",
       "+(A::Tridiagonal, B::Bidiagonal) at linalg/special.jl:121\n",
       "+(A::Bidiagonal, B::Array{T<:Any,2}) at linalg/special.jl:120\n",
       "+(A::Tridiagonal, B::Array{T<:Any,2}) at linalg/special.jl:120\n",
       "+(A::SymTridiagonal, B::Tridiagonal) at linalg/special.jl:129\n",
       "+(A::Tridiagonal, B::SymTridiagonal) at linalg/special.jl:130\n",
       "+(A::SymTridiagonal, B::Array{T<:Any,2}) at linalg/special.jl:129\n",
       "+(A::Diagonal, B::SymTridiagonal) at linalg/special.jl:138\n",
       "+(A::SymTridiagonal, B::Diagonal) at linalg/special.jl:139\n",
       "+(A::Bidiagonal, B::SymTridiagonal) at linalg/special.jl:138\n",
       "+(A::SymTridiagonal, B::Bidiagonal) at linalg/special.jl:139\n",
       "+(A::Diagonal, B::UpperTriangular) at linalg/special.jl:150\n",
       "+(A::UpperTriangular, B::Diagonal) at linalg/special.jl:151\n",
       "+(A::Diagonal, B::Base.LinAlg.UnitUpperTriangular) at linalg/special.jl:150\n",
       "+(A::Base.LinAlg.UnitUpperTriangular, B::Diagonal) at linalg/special.jl:151\n",
       "+(A::Diagonal, B::LowerTriangular) at linalg/special.jl:150\n",
       "+(A::LowerTriangular, B::Diagonal) at linalg/special.jl:151\n",
       "+(A::Diagonal, B::Base.LinAlg.UnitLowerTriangular) at linalg/special.jl:150\n",
       "+(A::Base.LinAlg.UnitLowerTriangular, B::Diagonal) at linalg/special.jl:151\n",
       "+(A::Base.LinAlg.AbstractTriangular, B::SymTridiagonal) at linalg/special.jl:157\n",
       "+(A::SymTridiagonal, B::Base.LinAlg.AbstractTriangular) at linalg/special.jl:158\n",
       "+(A::Base.LinAlg.AbstractTriangular, B::Tridiagonal) at linalg/special.jl:157\n",
       "+(A::Tridiagonal, B::Base.LinAlg.AbstractTriangular) at linalg/special.jl:158\n",
       "+(A::Base.LinAlg.AbstractTriangular, B::Bidiagonal) at linalg/special.jl:157\n",
       "+(A::Bidiagonal, B::Base.LinAlg.AbstractTriangular) at linalg/special.jl:158\n",
       "+(A::Base.LinAlg.AbstractTriangular, B::Array{T<:Any,2}) at linalg/special.jl:157\n",
       "+{P<:Union{Base.Dates.CompoundPeriod,Base.Dates.Period}}(Y::Union{Base.ReshapedArray{P,N<:Any,A<:DenseArray,MI<:Tuple{Vararg{Base.MultiplicativeInverses.SignedMultiplicativeInverse{Int64},N<:Any}}},DenseArray{P,N<:Any},SubArray{P,N<:Any,A<:Union{Base.ReshapedArray{T<:Any,N<:Any,A<:DenseArray,MI<:Tuple{Vararg{Base.MultiplicativeInverses.SignedMultiplicativeInverse{Int64},N<:Any}}},DenseArray},I<:Tuple{Vararg{Union{Base.AbstractCartesianIndex,Colon,Int64,Range{Int64}},N<:Any}},L<:Any}}, x::Union{Base.Dates.CompoundPeriod,Base.Dates.Period}) at dates/periods.jl:337\n",
       "+{P<:Union{Base.Dates.CompoundPeriod,Base.Dates.Period},Q<:Union{Base.Dates.CompoundPeriod,Base.Dates.Period}}(X::Union{Base.ReshapedArray{P,N<:Any,A<:DenseArray,MI<:Tuple{Vararg{Base.MultiplicativeInverses.SignedMultiplicativeInverse{Int64},N<:Any}}},DenseArray{P,N<:Any},SubArray{P,N<:Any,A<:Union{Base.ReshapedArray{T<:Any,N<:Any,A<:DenseArray,MI<:Tuple{Vararg{Base.MultiplicativeInverses.SignedMultiplicativeInverse{Int64},N<:Any}}},DenseArray},I<:Tuple{Vararg{Union{Base.AbstractCartesianIndex,Colon,Int64,Range{Int64}},N<:Any}},L<:Any}}, Y::Union{Base.ReshapedArray{Q,N<:Any,A<:DenseArray,MI<:Tuple{Vararg{Base.MultiplicativeInverses.SignedMultiplicativeInverse{Int64},N<:Any}}},DenseArray{Q,N<:Any},SubArray{Q,N<:Any,A<:Union{Base.ReshapedArray{T<:Any,N<:Any,A<:DenseArray,MI<:Tuple{Vararg{Base.MultiplicativeInverses.SignedMultiplicativeInverse{Int64},N<:Any}}},DenseArray},I<:Tuple{Vararg{Union{Base.AbstractCartesianIndex,Colon,Int64,Range{Int64}},N<:Any}},L<:Any}}) at dates/periods.jl:338\n",
       "+{T<:Base.Dates.TimeType,P<:Union{Base.Dates.CompoundPeriod,Base.Dates.Period}}(x::Union{Base.ReshapedArray{P,N<:Any,A<:DenseArray,MI<:Tuple{Vararg{Base.MultiplicativeInverses.SignedMultiplicativeInverse{Int64},N<:Any}}},DenseArray{P,N<:Any},SubArray{P,N<:Any,A<:Union{Base.ReshapedArray{T<:Any,N<:Any,A<:DenseArray,MI<:Tuple{Vararg{Base.MultiplicativeInverses.SignedMultiplicativeInverse{Int64},N<:Any}}},DenseArray},I<:Tuple{Vararg{Union{Base.AbstractCartesianIndex,Colon,Int64,Range{Int64}},N<:Any}},L<:Any}}, y::T) at dates/arithmetic.jl:83\n",
       "+{T<:Base.Dates.TimeType}(r::Range{T}, x::Base.Dates.Period) at dates/ranges.jl:39\n",
       "+{Tv1,Ti1,Tv2,Ti2}(A_1::SparseMatrixCSC{Tv1,Ti1}, A_2::SparseMatrixCSC{Tv2,Ti2}) at sparse/sparsematrix.jl:1697\n",
       "+(A::SparseMatrixCSC, B::Array) at sparse/sparsematrix.jl:1709\n",
       "+(A::SparseMatrixCSC, J::UniformScaling) at sparse/sparsematrix.jl:3811\n",
       "+(x::AbstractSparseArray{Tv<:Any,Ti<:Any,1}, y::AbstractSparseArray{Tv<:Any,Ti<:Any,1}) at sparse/sparsevector.jl:1179\n",
       "+(x::Union{Base.ReshapedArray{T<:Any,1,A<:DenseArray,MI<:Tuple{Vararg{Base.MultiplicativeInverses.SignedMultiplicativeInverse{Int64},N<:Any}}},DenseArray{T<:Any,1},SubArray{T<:Any,1,A<:Union{Base.ReshapedArray{T<:Any,N<:Any,A<:DenseArray,MI<:Tuple{Vararg{Base.MultiplicativeInverses.SignedMultiplicativeInverse{Int64},N<:Any}}},DenseArray},I<:Tuple{Vararg{Union{Base.AbstractCartesianIndex,Colon,Int64,Range{Int64}},N<:Any}},L<:Any}}, y::AbstractSparseArray{Tv<:Any,Ti<:Any,1}) at sparse/sparsevector.jl:1180\n",
       "+(x::AbstractSparseArray{Tv<:Any,Ti<:Any,1}, y::Union{Base.ReshapedArray{T<:Any,1,A<:DenseArray,MI<:Tuple{Vararg{Base.MultiplicativeInverses.SignedMultiplicativeInverse{Int64},N<:Any}}},DenseArray{T<:Any,1},SubArray{T<:Any,1,A<:Union{Base.ReshapedArray{T<:Any,N<:Any,A<:DenseArray,MI<:Tuple{Vararg{Base.MultiplicativeInverses.SignedMultiplicativeInverse{Int64},N<:Any}}},DenseArray},I<:Tuple{Vararg{Union{Base.AbstractCartesianIndex,Colon,Int64,Range{Int64}},N<:Any}},L<:Any}}) at sparse/sparsevector.jl:1181\n",
       "+{T<:Number}(x::AbstractArray{T,N<:Any}) at abstractarraymath.jl:91\n",
       "+{R,S}(A::AbstractArray{R,N<:Any}, B::AbstractArray{S,N<:Any}) at arraymath.jl:49\n",
       "+(A::AbstractArray, x::Number) at arraymath.jl:94\n",
       "+(x::Number, A::AbstractArray) at arraymath.jl:95\n",
       "+{N}(index1::CartesianIndex{N}, index2::CartesianIndex{N}) at multidimensional.jl:52\n",
       "+{N}(index::CartesianIndex{N}, i::Integer) at multidimensional.jl:57\n",
       "+(J1::UniformScaling, J2::UniformScaling) at linalg/uniformscaling.jl:37\n",
       "+(J::UniformScaling, B::BitArray{2}) at linalg/uniformscaling.jl:39\n",
       "+(J::UniformScaling, A::AbstractArray{T<:Any,2}) at linalg/uniformscaling.jl:40\n",
       "+(J::UniformScaling, x::Number) at linalg/uniformscaling.jl:41\n",
       "+(x::Number, J::UniformScaling) at linalg/uniformscaling.jl:42\n",
       "+{TA,TJ}(A::AbstractArray{TA,2}, J::UniformScaling{TJ}) at linalg/uniformscaling.jl:102\n",
       "+{T}(a::Base.Pkg.Resolve.VersionWeights.HierarchicalValue{T}, b::Base.Pkg.Resolve.VersionWeights.HierarchicalValue{T}) at pkg/resolve/versionweight.jl:23\n",
       "+{P<:Base.Dates.Period}(x::P, y::P) at dates/periods.jl:70\n",
       "+(x::Base.Dates.Period, y::Base.Dates.Period) at dates/periods.jl:311\n",
       "+(y::Base.Dates.Period, x::Base.Dates.CompoundPeriod) at dates/periods.jl:313\n",
       "+(y::Base.Dates.Period, x::Base.Dates.TimeType) at dates/arithmetic.jl:66\n",
       "+{T<:Base.Dates.TimeType}(x::Base.Dates.Period, r::Range{T}) at dates/ranges.jl:40\n",
       "+(x::Union{Base.Dates.CompoundPeriod,Base.Dates.Period}) at dates/periods.jl:322\n",
       "+{P<:Union{Base.Dates.CompoundPeriod,Base.Dates.Period}}(x::Union{Base.Dates.CompoundPeriod,Base.Dates.Period}, Y::Union{Base.ReshapedArray{P,N<:Any,A<:DenseArray,MI<:Tuple{Vararg{Base.MultiplicativeInverses.SignedMultiplicativeInverse{Int64},N<:Any}}},DenseArray{P,N<:Any},SubArray{P,N<:Any,A<:Union{Base.ReshapedArray{T<:Any,N<:Any,A<:DenseArray,MI<:Tuple{Vararg{Base.MultiplicativeInverses.SignedMultiplicativeInverse{Int64},N<:Any}}},DenseArray},I<:Tuple{Vararg{Union{Base.AbstractCartesianIndex,Colon,Int64,Range{Int64}},N<:Any}},L<:Any}}) at dates/periods.jl:336\n",
       "+(x::Base.Dates.TimeType) at dates/arithmetic.jl:8\n",
       "+(a::Base.Dates.TimeType, b::Base.Dates.Period, c::Base.Dates.Period) at dates/periods.jl:348\n",
       "+(a::Base.Dates.TimeType, b::Base.Dates.Period, c::Base.Dates.Period, d::Base.Dates.Period...) at dates/periods.jl:350\n",
       "+(x::Base.Dates.TimeType, y::Base.Dates.CompoundPeriod) at dates/periods.jl:354\n",
       "+(x::Base.Dates.Instant) at dates/arithmetic.jl:4\n",
       "+{T<:Base.Dates.TimeType}(x::AbstractArray{T,N<:Any}, y::Union{Base.Dates.CompoundPeriod,Base.Dates.Period}) at dates/arithmetic.jl:76\n",
       "+{T<:Base.Dates.TimeType}(y::Union{Base.Dates.CompoundPeriod,Base.Dates.Period}, x::AbstractArray{T,N<:Any}) at dates/arithmetic.jl:77\n",
       "+{P<:Union{Base.Dates.CompoundPeriod,Base.Dates.Period}}(y::Base.Dates.TimeType, x::Union{Base.ReshapedArray{P,N<:Any,A<:DenseArray,MI<:Tuple{Vararg{Base.MultiplicativeInverses.SignedMultiplicativeInverse{Int64},N<:Any}}},DenseArray{P,N<:Any},SubArray{P,N<:Any,A<:Union{Base.ReshapedArray{T<:Any,N<:Any,A<:DenseArray,MI<:Tuple{Vararg{Base.MultiplicativeInverses.SignedMultiplicativeInverse{Int64},N<:Any}}},DenseArray},I<:Tuple{Vararg{Union{Base.AbstractCartesianIndex,Colon,Int64,Range{Int64}},N<:Any}},L<:Any}}) at dates/arithmetic.jl:84\n",
       "+{F1<:FixedSizeArrays.FixedArray{T,NDim,SIZE},F2<:FixedSizeArrays.FixedArray{T,NDim,SIZE}}(x::F1, y::F2) at /home/dgromov/.julia/v0.5/FixedSizeArrays/src/ops.jl:81\n",
       "+{F<:FixedSizeArrays.FixedArray{T,NDim,SIZE}}(x::F, y::Number) at /home/dgromov/.julia/v0.5/FixedSizeArrays/src/ops.jl:82\n",
       "+{F<:FixedSizeArrays.FixedArray{T,NDim,SIZE}}(x::Number, y::F) at /home/dgromov/.julia/v0.5/FixedSizeArrays/src/ops.jl:83\n",
       "+{T,N}(x::FixedSizeArrays.FixedArray{T,N,SIZE<:Any}, y::AbstractArray{T,N}) at /home/dgromov/.julia/v0.5/FixedSizeArrays/src/ops.jl:84\n",
       "+{T,N}(x::AbstractArray{T,N}, y::FixedSizeArrays.FixedArray{T,N,SIZE<:Any}) at /home/dgromov/.julia/v0.5/FixedSizeArrays/src/ops.jl:85\n",
       "+{m,n,T}(A::FixedSizeArrays.Mat{m,n,T}, J::UniformScaling) at /home/dgromov/.julia/v0.5/FixedSizeArrays/src/ops.jl:380\n",
       "+{m,n,T}(J::UniformScaling, A::FixedSizeArrays.Mat{m,n,T}) at /home/dgromov/.julia/v0.5/FixedSizeArrays/src/ops.jl:381\n",
       "+{C<:Union{ColorTypes.LMS{T<:AbstractFloat},ColorTypes.XYZ{T<:AbstractFloat}}}(a::C, b::C) at /home/dgromov/.julia/v0.5/Colors/src/algorithms.jl:4\n",
       "+{u}(a::Measures.Length{u,T<:Any}, b::Measures.Length{u,T<:Any}) at /home/dgromov/.julia/v0.5/Measures/src/length.jl:32\n",
       "+(a::Measures.Measure, b::Measures.Measure) at /home/dgromov/.julia/v0.5/Measures/src/operations.jl:41\n",
       "+{N}(a::Tuple{Vararg{Measures.Measure,N}}, b::Tuple{Vararg{Measures.Measure,N}}) at /home/dgromov/.julia/v0.5/Measures/src/point.jl:34\n",
       "+(a::Tuple{Vararg{Measures.Measure,N<:Any}}, b::Tuple{Vararg{Measures.Measure,N<:Any}}) at /home/dgromov/.julia/v0.5/Measures/src/point.jl:26\n",
       "+(bb1::Measures.BoundingBox, bb2::Measures.BoundingBox) at /home/dgromov/.julia/v0.5/Plots/src/layouts.jl:53\n",
       "+(a, b, c, xs...) at operators.jl:138"
      ]
     },
     "execution_count": 11,
     "metadata": {},
     "output_type": "execute_result"
    }
   ],
   "source": [
    "methods(+)"
   ]
  },
  {
   "cell_type": "code",
   "execution_count": 13,
   "metadata": {
    "collapsed": false
   },
   "outputs": [
    {
     "data": {
      "text/plain": [
       "4-element Array{Symbol,1}:\n",
       " :start  \n",
       " :stop   \n",
       " :len    \n",
       " :divisor"
      ]
     },
     "execution_count": 13,
     "metadata": {},
     "output_type": "execute_result"
    }
   ],
   "source": [
    "fieldnames(LinSpace)"
   ]
  },
  {
   "cell_type": "code",
   "execution_count": 14,
   "metadata": {
    "collapsed": false
   },
   "outputs": [
    {
     "data": {
      "text/html": [
       "copy<i>{T<:Array{T,N}}</i>(a::<b>T</b>) at <a href=\"https://github.com/JuliaLang/julia/tree/3c9d75391c72d7c32eea75ff187ce77b2d5effc8/base/array.jl#L70\" target=\"_blank\">array.jl:70</a>"
      ],
      "text/plain": [
       "copy{T<:Array{T,N}}(a::T) at array.jl:70"
      ]
     },
     "execution_count": 14,
     "metadata": {},
     "output_type": "execute_result"
    }
   ],
   "source": [
    "@which copy([1,2,3])"
   ]
  },
  {
   "cell_type": "code",
   "execution_count": 15,
   "metadata": {
    "collapsed": false
   },
   "outputs": [
    {
     "data": {
      "text/plain": [
       "3-element Array{Int64,1}:\n",
       " 1\n",
       " 2\n",
       " 3"
      ]
     },
     "execution_count": 15,
     "metadata": {},
     "output_type": "execute_result"
    }
   ],
   "source": [
    "a = [1;2;3]"
   ]
  },
  {
   "cell_type": "code",
   "execution_count": 16,
   "metadata": {
    "collapsed": false
   },
   "outputs": [
    {
     "data": {
      "text/plain": [
       "Array{Int64,1}"
      ]
     },
     "execution_count": 16,
     "metadata": {},
     "output_type": "execute_result"
    }
   ],
   "source": [
    "typeof(a)"
   ]
  },
  {
   "cell_type": "code",
   "execution_count": 17,
   "metadata": {
    "collapsed": false
   },
   "outputs": [
    {
     "data": {
      "text/plain": [
       "4×4 Array{Int64,2}:\n",
       " 1  4  3  4\n",
       " 3  4  5  6\n",
       " 4  4  4  6\n",
       " 3  3  3  3"
      ]
     },
     "execution_count": 17,
     "metadata": {},
     "output_type": "execute_result"
    }
   ],
   "source": [
    "a = Vector{Float64}(5) # Crear un vector de longitud 5 y de una sola dimension con Floats64\n",
    "a = [1;2;3;4;5] # Create the vector columna [1 2 3 4 5]\n",
    "\n",
    "a = [1 2 3 4] # Create the vector fila [1 2 3 4]\n",
    "\n",
    "a[3] = 2 # Change the third element of a (using linear indexing) to 2\n",
    "\n",
    "b = Matrix{Float64}(4,2) # Define a Matrix of Float64's of size (4,2)\n",
    "\n",
    "c = Array{Float64}(4,5,6,7) # Define a (4,5,6,7) array of Float64's \n",
    "\n",
    "mat    = [1 2 3 4\n",
    "          3 4 5 6\n",
    "          4 4 4 6\n",
    "          3 3 3 3] #Define the matrix inline \n",
    "\n",
    "mat[1,2] = 4 # Set element (1,2) (row 1, column 2) to 4\n",
    "\n",
    "mat"
   ]
  },
  {
   "cell_type": "code",
   "execution_count": 18,
   "metadata": {
    "collapsed": false
   },
   "outputs": [
    {
     "data": {
      "text/plain": [
       "1×4 Array{Int64,2}:\n",
       " 1  2  3  4"
      ]
     },
     "execution_count": 18,
     "metadata": {},
     "output_type": "execute_result"
    }
   ],
   "source": [
    "a = [1 2 3 4]"
   ]
  },
  {
   "cell_type": "code",
   "execution_count": null,
   "metadata": {
    "collapsed": true
   },
   "outputs": [],
   "source": []
  }
 ],
 "metadata": {
  "anaconda-cloud": {},
  "kernelspec": {
   "display_name": "Julia 0.5.0",
   "language": "julia",
   "name": "julia-0.5"
  },
  "language_info": {
   "file_extension": ".jl",
   "mimetype": "application/julia",
   "name": "julia",
   "version": "0.5.0"
  },
  "nbpresent": {
   "slides": {
    "76b7ec12-43b4-44ed-9dbb-73dac3b78f2c": {
     "id": "76b7ec12-43b4-44ed-9dbb-73dac3b78f2c",
     "prev": null,
     "regions": {}
    },
    "e8dce7e2-ecff-478b-a919-d6f685483da6": {
     "id": "e8dce7e2-ecff-478b-a919-d6f685483da6",
     "prev": "76b7ec12-43b4-44ed-9dbb-73dac3b78f2c",
     "regions": {}
    }
   },
   "themes": {}
  }
 },
 "nbformat": 4,
 "nbformat_minor": 1
}
